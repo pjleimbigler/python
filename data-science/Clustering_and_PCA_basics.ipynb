{
 "cells": [
  {
   "cell_type": "markdown",
   "metadata": {},
   "source": [
    "# PCA and Clustering: hands-on practice\n",
    "\n",
    "Let's play around with pre-baked clustering algorithms on various example datasets.\n",
    "\n",
    "The closest Klick benefit to this is to the Sivextro market archetyping project, which is essentially clustering."
   ]
  },
  {
   "cell_type": "code",
   "execution_count": 1,
   "metadata": {
    "ExecuteTime": {
     "end_time": "2018-02-05T23:52:36.836900Z",
     "start_time": "2018-02-05T23:52:36.054619Z"
    }
   },
   "outputs": [],
   "source": [
    "%matplotlib inline\n",
    "import matplotlib.pyplot as plt\n",
    "import numpy as np\n",
    "import pandas as pd\n",
    "from sklearn.decomposition import PCA"
   ]
  },
  {
   "cell_type": "markdown",
   "metadata": {},
   "source": [
    "# Dataset 0: manually generated example data\n",
    "\n",
    "Let's literally hand-write some examples and see what PCA and clustering feel like.\n",
    "\n",
    "We'll start with data tightly scattered about the line $y = x$, with more data in the first quadrant than in the third."
   ]
  },
  {
   "cell_type": "code",
   "execution_count": 2,
   "metadata": {
    "ExecuteTime": {
     "end_time": "2018-02-05T23:52:36.849071Z",
     "start_time": "2018-02-05T23:52:36.840774Z"
    }
   },
   "outputs": [],
   "source": [
    "X = np.array([[-5, -5], \n",
    "              [-2, -3], \n",
    "              [-1, -1],\n",
    "              [0, 1], \n",
    "              [1, 0],\n",
    "              [2, 2],\n",
    "              [3, 3],\n",
    "              [5, 4], \n",
    "              [5, 5],\n",
    "              [6, 6],\n",
    "              [7, 8],\n",
    "              [10, 9],\n",
    "              [11, 12]])"
   ]
  },
  {
   "cell_type": "code",
   "execution_count": 3,
   "metadata": {
    "ExecuteTime": {
     "end_time": "2018-02-05T23:52:36.857537Z",
     "start_time": "2018-02-05T23:52:36.852891Z"
    }
   },
   "outputs": [],
   "source": [
    "pca_2comp = PCA(n_components=2)"
   ]
  },
  {
   "cell_type": "code",
   "execution_count": 4,
   "metadata": {
    "ExecuteTime": {
     "end_time": "2018-02-05T23:52:36.873574Z",
     "start_time": "2018-02-05T23:52:36.861612Z"
    },
    "scrolled": true
   },
   "outputs": [
    {
     "data": {
      "text/plain": [
       "PCA(copy=True, iterated_power='auto', n_components=2, random_state=None,\n",
       "  svd_solver='auto', tol=0.0, whiten=False)"
      ]
     },
     "execution_count": 4,
     "metadata": {},
     "output_type": "execute_result"
    }
   ],
   "source": [
    "pca_2comp.fit(X)"
   ]
  },
  {
   "cell_type": "code",
   "execution_count": 5,
   "metadata": {
    "ExecuteTime": {
     "end_time": "2018-02-05T23:52:36.881989Z",
     "start_time": "2018-02-05T23:52:36.877348Z"
    }
   },
   "outputs": [
    {
     "name": "stdout",
     "output_type": "stream",
     "text": [
      "[0.9940889 0.0059111]\n"
     ]
    }
   ],
   "source": [
    "print pca_2comp.explained_variance_ratio_"
   ]
  },
  {
   "cell_type": "markdown",
   "metadata": {},
   "source": [
    "Okay, the first principal component explains the vast majority of variance. Makes sense, since we manually distributed the samples along a straight line with pretty low variance around it."
   ]
  },
  {
   "cell_type": "code",
   "execution_count": 6,
   "metadata": {
    "ExecuteTime": {
     "end_time": "2018-02-05T23:52:36.889855Z",
     "start_time": "2018-02-05T23:52:36.885821Z"
    }
   },
   "outputs": [
    {
     "name": "stdout",
     "output_type": "stream",
     "text": [
      "[23.38266226  1.80308229]\n"
     ]
    }
   ],
   "source": [
    "print pca_2comp.singular_values_"
   ]
  },
  {
   "cell_type": "code",
   "execution_count": 7,
   "metadata": {
    "ExecuteTime": {
     "end_time": "2018-02-05T23:52:36.899487Z",
     "start_time": "2018-02-05T23:52:36.893906Z"
    }
   },
   "outputs": [
    {
     "name": "stdout",
     "output_type": "stream",
     "text": [
      "[[ 0.69305617  0.72088358]\n",
      " [-0.72088358  0.69305617]]\n"
     ]
    }
   ],
   "source": [
    "print pca_2comp.components_"
   ]
  },
  {
   "cell_type": "markdown",
   "metadata": {},
   "source": [
    "We've just diagonalized the nvar-by-nvar covariance matrix:\n",
    "\n",
    "$C = VLV^{T}$,\n",
    "\n",
    "where $V$ is a matrix of eigenvectors (eigenvecs as columns), and $L$ is a diagonal matrix of eigenvalues, in *decreasing* order. These eigenvalues are our **principal components**, which are the lengths of the eigenvectors that point along the **principal axes** or **principal directions** of the data.\n",
    "\n",
    "Further very important reading:\n",
    "\n",
    "https://stats.stackexchange.com/questions/134282/relationship-between-svd-and-pca-how-to-use-svd-to-perform-pca\n",
    "\n",
    "Let's confirm the eigenvalue and eigenvector picture graphically."
   ]
  },
  {
   "cell_type": "code",
   "execution_count": 8,
   "metadata": {
    "ExecuteTime": {
     "end_time": "2018-02-05T23:52:37.108410Z",
     "start_time": "2018-02-05T23:52:36.903216Z"
    }
   },
   "outputs": [
    {
     "data": {
      "image/png": "[encoded data removed]",
      "text/plain": [
       "<matplotlib.figure.Figure at 0x1110036d0>"
      ]
     },
     "metadata": {},
     "output_type": "display_data"
    }
   ],
   "source": [
    "fig, ax = plt.subplots()\n",
    "ax.scatter(X[:,0], X[:,1])\n",
    "x0 = X[:,0].mean()\n",
    "y0 = X[:,1].mean()\n",
    "for sv, c in zip(pca_2comp.singular_values_, pca_2comp.components_):\n",
    "    cx = c[0]*sv\n",
    "    cy = c[1]*sv\n",
    "    ax.arrow(x0, y0, cx, cy, head_width=0.3)\n",
    "plt.axis('equal')\n",
    "# My terrible plot code assumes negative minimum values.\n",
    "ax.set_ylim(2*ax.get_ylim()[0], 2*ax.get_ylim()[1]);"
   ]
  },
  {
   "cell_type": "markdown",
   "metadata": {},
   "source": [
    "Cool. Now, what if we do PCA with only one component? Should we just get the first eigenvector and eigenvalue?"
   ]
  },
  {
   "cell_type": "code",
   "execution_count": 9,
   "metadata": {
    "ExecuteTime": {
     "end_time": "2018-02-05T23:52:37.116097Z",
     "start_time": "2018-02-05T23:52:37.111692Z"
    }
   },
   "outputs": [],
   "source": [
    "pca_1comp = PCA(n_components=1)"
   ]
  },
  {
   "cell_type": "code",
   "execution_count": 10,
   "metadata": {
    "ExecuteTime": {
     "end_time": "2018-02-05T23:52:37.128896Z",
     "start_time": "2018-02-05T23:52:37.120078Z"
    },
    "scrolled": true
   },
   "outputs": [
    {
     "data": {
      "text/plain": [
       "PCA(copy=True, iterated_power='auto', n_components=1, random_state=None,\n",
       "  svd_solver='auto', tol=0.0, whiten=False)"
      ]
     },
     "execution_count": 10,
     "metadata": {},
     "output_type": "execute_result"
    }
   ],
   "source": [
    "pca_1comp.fit(X)"
   ]
  },
  {
   "cell_type": "code",
   "execution_count": 11,
   "metadata": {
    "ExecuteTime": {
     "end_time": "2018-02-05T23:52:37.137583Z",
     "start_time": "2018-02-05T23:52:37.131884Z"
    }
   },
   "outputs": [
    {
     "name": "stdout",
     "output_type": "stream",
     "text": [
      "[0.9940889]\n"
     ]
    }
   ],
   "source": [
    "print pca_1comp.explained_variance_ratio_"
   ]
  },
  {
   "cell_type": "code",
   "execution_count": 12,
   "metadata": {
    "ExecuteTime": {
     "end_time": "2018-02-05T23:52:37.146770Z",
     "start_time": "2018-02-05T23:52:37.141029Z"
    }
   },
   "outputs": [
    {
     "name": "stdout",
     "output_type": "stream",
     "text": [
      "[23.38266226]\n"
     ]
    }
   ],
   "source": [
    "print pca_1comp.singular_values_"
   ]
  },
  {
   "cell_type": "code",
   "execution_count": 13,
   "metadata": {
    "ExecuteTime": {
     "end_time": "2018-02-05T23:52:37.155622Z",
     "start_time": "2018-02-05T23:52:37.150725Z"
    }
   },
   "outputs": [
    {
     "name": "stdout",
     "output_type": "stream",
     "text": [
      "[[0.69305617 0.72088358]]\n"
     ]
    }
   ],
   "source": [
    "print pca_1comp.components_"
   ]
  },
  {
   "cell_type": "markdown",
   "metadata": {},
   "source": [
    "Exactly as expected, we've found a single rotated direction along which variance is maximum. Our eigenvector matrix is just a single 2x1 column, and the eigenvalue matrix contains only one element."
   ]
  },
  {
   "cell_type": "code",
   "execution_count": 14,
   "metadata": {
    "ExecuteTime": {
     "end_time": "2018-02-05T23:52:37.167797Z",
     "start_time": "2018-02-05T23:52:37.159894Z"
    }
   },
   "outputs": [
    {
     "data": {
      "text/plain": [
       "array([-4.71376216, -4.25833547, -3.53391103, -4.54291224, -3.87041786,\n",
       "       -3.13976181, -3.10185286, -4.00751324, -3.16624615, -3.26854838,\n",
       "       -4.26300917, -5.23046633, -5.1312799 ])"
      ]
     },
     "execution_count": 14,
     "metadata": {},
     "output_type": "execute_result"
    }
   ],
   "source": [
    "pca_2comp.score_samples(X)"
   ]
  },
  {
   "cell_type": "markdown",
   "metadata": {},
   "source": [
    "# Dataset 1: Irises\n",
    "\n",
    "Let's follow the official sklearn tutorial here: http://scikit-learn.org/stable/tutorial/statistical_inference/unsupervised_learning.html"
   ]
  },
  {
   "cell_type": "code",
   "execution_count": 15,
   "metadata": {
    "ExecuteTime": {
     "end_time": "2018-02-05T23:52:37.209669Z",
     "start_time": "2018-02-05T23:52:37.171181Z"
    }
   },
   "outputs": [],
   "source": [
    "from sklearn import cluster, datasets\n",
    "iris = datasets.load_iris()"
   ]
  },
  {
   "cell_type": "code",
   "execution_count": 16,
   "metadata": {
    "ExecuteTime": {
     "end_time": "2018-02-05T23:52:37.222104Z",
     "start_time": "2018-02-05T23:52:37.213855Z"
    }
   },
   "outputs": [
    {
     "data": {
      "text/plain": [
       "sklearn.utils.Bunch"
      ]
     },
     "execution_count": 16,
     "metadata": {},
     "output_type": "execute_result"
    }
   ],
   "source": [
    "type(iris)"
   ]
  },
  {
   "cell_type": "code",
   "execution_count": 17,
   "metadata": {
    "ExecuteTime": {
     "end_time": "2018-02-05T23:52:37.235364Z",
     "start_time": "2018-02-05T23:52:37.226992Z"
    }
   },
   "outputs": [
    {
     "data": {
      "text/plain": [
       "['DESCR', 'data', 'feature_names', 'target', 'target_names']"
      ]
     },
     "execution_count": 17,
     "metadata": {},
     "output_type": "execute_result"
    }
   ],
   "source": [
    "dir(iris)"
   ]
  },
  {
   "cell_type": "code",
   "execution_count": 18,
   "metadata": {
    "ExecuteTime": {
     "end_time": "2018-02-05T23:52:37.243939Z",
     "start_time": "2018-02-05T23:52:37.239135Z"
    }
   },
   "outputs": [
    {
     "name": "stdout",
     "output_type": "stream",
     "text": [
      "Iris Plants Database\n",
      "====================\n",
      "\n",
      "Notes\n",
      "-----\n",
      "Data Set Characteristics:\n",
      "    :Number of Instances: 150 (50 in each of three classes)\n",
      "    :Number of Attributes: 4 numeric, predictive attributes and the class\n",
      "    :Attribute Information:\n",
      "        - sepal length in cm\n",
      "        - sepal width in cm\n",
      "        - petal length in cm\n",
      "        - petal width in cm\n",
      "        - class:\n",
      "                - Iris-Setosa\n",
      "                - Iris-Versicolour\n",
      "                - Iris-Virginica\n",
      "    :Summary Statistics:\n",
      "\n",
      "    ============== ==== ==== ======= ===== ====================\n",
      "                    Min  Max   Mean    SD   Class Correlation\n",
      "    ============== ==== ==== ======= ===== ====================\n",
      "    sepal length:   4.3  7.9   5.84   0.83    0.7826\n",
      "    sepal width:    2.0  4.4   3.05   0.43   -0.4194\n",
      "    petal length:   1.0  6.9   3.76   1.76    0.9490  (high!)\n",
      "    petal width:    0.1  2.5   1.20  0.76     0.9565  (high!)\n",
      "    ============== ==== ==== ======= ===== ====================\n",
      "\n",
      "    :Missing Attribute Values: None\n",
      "    :Class Distribution: 33.3% for each of 3 classes.\n",
      "    :Creator: R.A. Fisher\n",
      "    :Donor: Michael Marshall (MARSHALL%PLU@io.arc.nasa.gov)\n",
      "    :Date: July, 1988\n",
      "\n",
      "This is a copy of UCI ML iris datasets.\n",
      "http://archive.ics.uci.edu/ml/datasets/Iris\n",
      "\n",
      "The famous Iris database, first used by Sir R.A Fisher\n",
      "\n",
      "This is perhaps the best known database to be found in the\n",
      "pattern recognition literature.  Fisher's paper is a classic in the field and\n",
      "is referenced frequently to this day.  (See Duda & Hart, for example.)  The\n",
      "data set contains 3 classes of 50 instances each, where each class refers to a\n",
      "type of iris plant.  One class is linearly separable from the other 2; the\n",
      "latter are NOT linearly separable from each other.\n",
      "\n",
      "References\n",
      "----------\n",
      "   - Fisher,R.A. \"The use of multiple measurements in taxonomic problems\"\n",
      "     Annual Eugenics, 7, Part II, 179-188 (1936); also in \"Contributions to\n",
      "     Mathematical Statistics\" (John Wiley, NY, 1950).\n",
      "   - Duda,R.O., & Hart,P.E. (1973) Pattern Classification and Scene Analysis.\n",
      "     (Q327.D83) John Wiley & Sons.  ISBN 0-471-22361-1.  See page 218.\n",
      "   - Dasarathy, B.V. (1980) \"Nosing Around the Neighborhood: A New System\n",
      "     Structure and Classification Rule for Recognition in Partially Exposed\n",
      "     Environments\".  IEEE Transactions on Pattern Analysis and Machine\n",
      "     Intelligence, Vol. PAMI-2, No. 1, 67-71.\n",
      "   - Gates, G.W. (1972) \"The Reduced Nearest Neighbor Rule\".  IEEE Transactions\n",
      "     on Information Theory, May 1972, 431-433.\n",
      "   - See also: 1988 MLC Proceedings, 54-64.  Cheeseman et al\"s AUTOCLASS II\n",
      "     conceptual clustering system finds 3 classes in the data.\n",
      "   - Many, many more ...\n",
      "\n"
     ]
    }
   ],
   "source": [
    "print iris.DESCR"
   ]
  },
  {
   "cell_type": "code",
   "execution_count": 19,
   "metadata": {
    "ExecuteTime": {
     "end_time": "2018-02-05T23:52:37.255536Z",
     "start_time": "2018-02-05T23:52:37.246948Z"
    }
   },
   "outputs": [
    {
     "data": {
      "text/plain": [
       "['sepal length (cm)',\n",
       " 'sepal width (cm)',\n",
       " 'petal length (cm)',\n",
       " 'petal width (cm)']"
      ]
     },
     "execution_count": 19,
     "metadata": {},
     "output_type": "execute_result"
    }
   ],
   "source": [
    "iris.feature_names"
   ]
  },
  {
   "cell_type": "markdown",
   "metadata": {},
   "source": [
    "Let's do it."
   ]
  },
  {
   "cell_type": "code",
   "execution_count": 20,
   "metadata": {
    "ExecuteTime": {
     "end_time": "2018-02-05T23:52:37.263976Z",
     "start_time": "2018-02-05T23:52:37.259519Z"
    }
   },
   "outputs": [],
   "source": [
    "X_iris = iris.data\n",
    "y_iris = iris.target"
   ]
  },
  {
   "cell_type": "markdown",
   "metadata": {},
   "source": [
    "## K-means clustering\n",
    "\n",
    "Probably the most basic clustering algo. We need to specify the number of clusters. That's a rather serious shortcoming in the context of clustering markets / HCPs. But we gotta start somewhere.\n",
    "\n",
    "Oh! Michael Li mentioned the **elbow method** of empirically choosing the right number of clusters. Might want to look into that toward the end of this section."
   ]
  },
  {
   "cell_type": "code",
   "execution_count": 21,
   "metadata": {
    "ExecuteTime": {
     "end_time": "2018-02-05T23:52:37.272195Z",
     "start_time": "2018-02-05T23:52:37.267855Z"
    }
   },
   "outputs": [],
   "source": [
    "# We know there are 3 species. For HCPs, mayyybe we'll see in raw plots \n",
    "# that there are 6 or 10 or whatever clusters. Wishful thinking.\n",
    "k_means = cluster.KMeans(n_clusters=3)"
   ]
  },
  {
   "cell_type": "code",
   "execution_count": 22,
   "metadata": {
    "ExecuteTime": {
     "end_time": "2018-02-05T23:52:37.309043Z",
     "start_time": "2018-02-05T23:52:37.275056Z"
    }
   },
   "outputs": [
    {
     "data": {
      "text/plain": [
       "KMeans(algorithm='auto', copy_x=True, init='k-means++', max_iter=300,\n",
       "    n_clusters=3, n_init=10, n_jobs=1, precompute_distances='auto',\n",
       "    random_state=None, tol=0.0001, verbose=0)"
      ]
     },
     "execution_count": 22,
     "metadata": {},
     "output_type": "execute_result"
    }
   ],
   "source": [
    "k_means.fit(X_iris)"
   ]
  },
  {
   "cell_type": "code",
   "execution_count": 23,
   "metadata": {
    "ExecuteTime": {
     "end_time": "2018-02-05T23:52:37.319934Z",
     "start_time": "2018-02-05T23:52:37.313088Z"
    }
   },
   "outputs": [
    {
     "data": {
      "text/plain": [
       "(150,)"
      ]
     },
     "execution_count": 23,
     "metadata": {},
     "output_type": "execute_result"
    }
   ],
   "source": [
    "k_means.labels_.shape"
   ]
  },
  {
   "cell_type": "markdown",
   "metadata": {},
   "source": [
    "Inspect correspondence between the discovered cluster labels and the true species."
   ]
  },
  {
   "cell_type": "code",
   "execution_count": 24,
   "metadata": {
    "ExecuteTime": {
     "end_time": "2018-02-05T23:52:37.332491Z",
     "start_time": "2018-02-05T23:52:37.323887Z"
    }
   },
   "outputs": [
    {
     "data": {
      "text/plain": [
       "array([1, 1, 1, 1, 1, 0, 0, 0, 0, 0, 2, 2, 2, 2, 2], dtype=int32)"
      ]
     },
     "execution_count": 24,
     "metadata": {},
     "output_type": "execute_result"
    }
   ],
   "source": [
    "k_means.labels_[::10]"
   ]
  },
  {
   "cell_type": "code",
   "execution_count": 25,
   "metadata": {
    "ExecuteTime": {
     "end_time": "2018-02-05T23:52:37.345026Z",
     "start_time": "2018-02-05T23:52:37.336852Z"
    }
   },
   "outputs": [
    {
     "data": {
      "text/plain": [
       "array([0, 0, 0, 0, 0, 1, 1, 1, 1, 1, 2, 2, 2, 2, 2])"
      ]
     },
     "execution_count": 25,
     "metadata": {},
     "output_type": "execute_result"
    }
   ],
   "source": [
    "y_iris[::10]"
   ]
  },
  {
   "cell_type": "markdown",
   "metadata": {},
   "source": [
    "For easier plot comparisons, let's clumsily swap 0 and 1 in the truth y_iris labels."
   ]
  },
  {
   "cell_type": "code",
   "execution_count": 26,
   "metadata": {
    "ExecuteTime": {
     "end_time": "2018-02-05T23:52:37.354895Z",
     "start_time": "2018-02-05T23:52:37.349725Z"
    }
   },
   "outputs": [],
   "source": [
    "# lol\n",
    "y_iris[y_iris == 1] = 3\n",
    "y_iris[y_iris == 0] = 1\n",
    "y_iris[y_iris == 3] = 0"
   ]
  },
  {
   "cell_type": "code",
   "execution_count": 27,
   "metadata": {
    "ExecuteTime": {
     "end_time": "2018-02-05T23:52:37.366985Z",
     "start_time": "2018-02-05T23:52:37.358568Z"
    }
   },
   "outputs": [
    {
     "data": {
      "text/plain": [
       "array([[5.9016129 , 2.7483871 , 4.39354839, 1.43387097],\n",
       "       [5.006     , 3.418     , 1.464     , 0.244     ],\n",
       "       [6.85      , 3.07368421, 5.74210526, 2.07105263]])"
      ]
     },
     "execution_count": 27,
     "metadata": {},
     "output_type": "execute_result"
    }
   ],
   "source": [
    "k_means.cluster_centers_"
   ]
  },
  {
   "cell_type": "code",
   "execution_count": 28,
   "metadata": {
    "ExecuteTime": {
     "end_time": "2018-02-05T23:52:37.393309Z",
     "start_time": "2018-02-05T23:52:37.370738Z"
    }
   },
   "outputs": [
    {
     "data": {
      "text/html": [
       "<div>\n",
       "<style scoped>\n",
       "    .dataframe tbody tr th:only-of-type {\n",
       "        vertical-align: middle;\n",
       "    }\n",
       "\n",
       "    .dataframe tbody tr th {\n",
       "        vertical-align: top;\n",
       "    }\n",
       "\n",
       "    .dataframe thead th {\n",
       "        text-align: right;\n",
       "    }\n",
       "</style>\n",
       "<table border=\"1\" class=\"dataframe\">\n",
       "  <thead>\n",
       "    <tr style=\"text-align: right;\">\n",
       "      <th></th>\n",
       "      <th>sepal length (cm)</th>\n",
       "      <th>sepal width (cm)</th>\n",
       "      <th>petal length (cm)</th>\n",
       "      <th>petal width (cm)</th>\n",
       "    </tr>\n",
       "    <tr>\n",
       "      <th>Cluster Number</th>\n",
       "      <th></th>\n",
       "      <th></th>\n",
       "      <th></th>\n",
       "      <th></th>\n",
       "    </tr>\n",
       "  </thead>\n",
       "  <tbody>\n",
       "    <tr>\n",
       "      <th>0</th>\n",
       "      <td>5.901613</td>\n",
       "      <td>2.748387</td>\n",
       "      <td>4.393548</td>\n",
       "      <td>1.433871</td>\n",
       "    </tr>\n",
       "    <tr>\n",
       "      <th>1</th>\n",
       "      <td>5.006000</td>\n",
       "      <td>3.418000</td>\n",
       "      <td>1.464000</td>\n",
       "      <td>0.244000</td>\n",
       "    </tr>\n",
       "    <tr>\n",
       "      <th>2</th>\n",
       "      <td>6.850000</td>\n",
       "      <td>3.073684</td>\n",
       "      <td>5.742105</td>\n",
       "      <td>2.071053</td>\n",
       "    </tr>\n",
       "  </tbody>\n",
       "</table>\n",
       "</div>"
      ],
      "text/plain": [
       "                sepal length (cm)  sepal width (cm)  petal length (cm)  \\\n",
       "Cluster Number                                                           \n",
       "0                        5.901613          2.748387           4.393548   \n",
       "1                        5.006000          3.418000           1.464000   \n",
       "2                        6.850000          3.073684           5.742105   \n",
       "\n",
       "                petal width (cm)  \n",
       "Cluster Number                    \n",
       "0                       1.433871  \n",
       "1                       0.244000  \n",
       "2                       2.071053  "
      ]
     },
     "execution_count": 28,
     "metadata": {},
     "output_type": "execute_result"
    }
   ],
   "source": [
    "# Use DataFrame for pretty printing\n",
    "pd.DataFrame(data=k_means.cluster_centers_, \n",
    "             columns=iris.feature_names).rename_axis('Cluster Number', axis=0)"
   ]
  },
  {
   "cell_type": "markdown",
   "metadata": {},
   "source": [
    "### 3D Plots"
   ]
  },
  {
   "cell_type": "code",
   "execution_count": 29,
   "metadata": {
    "ExecuteTime": {
     "end_time": "2018-02-05T23:52:37.405065Z",
     "start_time": "2018-02-05T23:52:37.397645Z"
    }
   },
   "outputs": [],
   "source": [
    "from mpl_toolkits.mplot3d import Axes3D"
   ]
  },
  {
   "cell_type": "markdown",
   "metadata": {},
   "source": [
    "### Truth"
   ]
  },
  {
   "cell_type": "code",
   "execution_count": 30,
   "metadata": {
    "ExecuteTime": {
     "end_time": "2018-02-05T23:52:37.874049Z",
     "start_time": "2018-02-05T23:52:37.408791Z"
    },
    "scrolled": false
   },
   "outputs": [
    {
     "data": {
      "image/png": "[encoded data removed]",
      "text/plain": [
       "<matplotlib.figure.Figure at 0x111809450>"
      ]
     },
     "metadata": {},
     "output_type": "display_data"
    }
   ],
   "source": [
    "pltidx = np.array([0, 1, 2])\n",
    "labels = y_iris\n",
    "fig, ax = plt.subplots()\n",
    "ax = Axes3D(fig, elev=48, azim=120)\n",
    "ax.scatter(X_iris[:, pltidx[0]],\n",
    "           X_iris[:, pltidx[1]],\n",
    "           X_iris[:, pltidx[2]],\n",
    "           c=labels.astype(float),\n",
    "           edgecolor='k',\n",
    "           s=30)\n",
    "ax.set_xlabel(iris.feature_names[pltidx[0]])\n",
    "ax.set_ylabel(iris.feature_names[pltidx[1]])\n",
    "ax.set_zlabel(iris.feature_names[pltidx[2]]);\n",
    "plt.show();"
   ]
  },
  {
   "cell_type": "markdown",
   "metadata": {},
   "source": [
    "### K-Means results"
   ]
  },
  {
   "cell_type": "code",
   "execution_count": 31,
   "metadata": {
    "ExecuteTime": {
     "end_time": "2018-02-05T23:52:38.317922Z",
     "start_time": "2018-02-05T23:52:37.878787Z"
    }
   },
   "outputs": [
    {
     "data": {
      "image/png": "[encoded data removed]",
      "text/plain": [
       "<matplotlib.figure.Figure at 0x1119b1690>"
      ]
     },
     "metadata": {},
     "output_type": "display_data"
    }
   ],
   "source": [
    "pltidx = np.array([0, 1, 2])\n",
    "labels = k_means.labels_\n",
    "fig, ax = plt.subplots()\n",
    "ax = Axes3D(fig, elev=48, azim=120)\n",
    "ax.scatter(X_iris[:, pltidx[0]],\n",
    "           X_iris[:, pltidx[1]],\n",
    "           X_iris[:, pltidx[2]],\n",
    "           c=labels.astype(float),\n",
    "           edgecolor='k')\n",
    "ax.set_xlabel(iris.feature_names[pltidx[0]])\n",
    "ax.set_ylabel(iris.feature_names[pltidx[1]])\n",
    "ax.set_zlabel(iris.feature_names[pltidx[2]]);"
   ]
  },
  {
   "cell_type": "markdown",
   "metadata": {},
   "source": [
    "# PCA, *then* k-means\n",
    "\n",
    "Based on this, we want to turn on PCA whitening, since k-means makes strong assumptions about the isotropy of the signal."
   ]
  },
  {
   "cell_type": "code",
   "execution_count": 32,
   "metadata": {
    "ExecuteTime": {
     "end_time": "2018-02-05T23:52:38.528938Z",
     "start_time": "2018-02-05T23:52:38.322024Z"
    }
   },
   "outputs": [
    {
     "data": {
      "image/png": "[encoded data removed]",
      "text/plain": [
       "<matplotlib.figure.Figure at 0x111809210>"
      ]
     },
     "metadata": {},
     "output_type": "display_data"
    }
   ],
   "source": [
    "plt.scatter(X_iris[:, 0], X_iris[:, 1], c=y_iris, cmap=plt.cm.Accent)\n",
    "plt.xlabel(iris.feature_names[0])\n",
    "plt.ylabel(iris.feature_names[1]);"
   ]
  },
  {
   "cell_type": "code",
   "execution_count": 33,
   "metadata": {
    "ExecuteTime": {
     "end_time": "2018-02-05T23:52:38.540268Z",
     "start_time": "2018-02-05T23:52:38.533367Z"
    }
   },
   "outputs": [],
   "source": [
    "# Here we go!\n",
    "X_iris_reduced = PCA(n_components=2).fit_transform(X_iris);"
   ]
  },
  {
   "cell_type": "code",
   "execution_count": 34,
   "metadata": {
    "ExecuteTime": {
     "end_time": "2018-02-05T23:52:38.790715Z",
     "start_time": "2018-02-05T23:52:38.544827Z"
    }
   },
   "outputs": [
    {
     "data": {
      "image/png": "[encoded data removed]",
      "text/plain": [
       "<matplotlib.figure.Figure at 0x111c46fd0>"
      ]
     },
     "metadata": {},
     "output_type": "display_data"
    }
   ],
   "source": [
    "plt.scatter(X_iris_reduced[:, 0], X_iris_reduced[:, 1], c=y_iris, cmap=plt.cm.Accent);\n",
    "ax.set_title('First two PCA directions')\n",
    "ax.set_xlabel('1st eigenvector')\n",
    "ax.set_ylabel('2nd eigenvector');"
   ]
  },
  {
   "cell_type": "markdown",
   "metadata": {},
   "source": [
    "Sure enough, we've just reproduced the first plot of this [walkthrough](http://scikit-learn.org/stable/modules/decomposition.html#pca)."
   ]
  },
  {
   "cell_type": "markdown",
   "metadata": {},
   "source": [
    "# Hierarchical Clustering"
   ]
  },
  {
   "cell_type": "markdown",
   "metadata": {},
   "source": [
    "Let's try to discover a reasonable number of clusters from the data with hierarchical clustering. Source: https://joernhees.de/blog/2015/08/26/scipy-hierarchical-clustering-and-dendrogram-tutorial/"
   ]
  },
  {
   "cell_type": "code",
   "execution_count": 35,
   "metadata": {
    "ExecuteTime": {
     "end_time": "2018-02-05T23:52:38.802992Z",
     "start_time": "2018-02-05T23:52:38.794536Z"
    }
   },
   "outputs": [],
   "source": [
    "from scipy.cluster.hierarchy import dendrogram, linkage"
   ]
  },
  {
   "cell_type": "markdown",
   "metadata": {},
   "source": [
    "## Simulated Data"
   ]
  },
  {
   "cell_type": "code",
   "execution_count": 36,
   "metadata": {
    "ExecuteTime": {
     "end_time": "2018-02-05T23:52:39.023049Z",
     "start_time": "2018-02-05T23:52:38.807090Z"
    }
   },
   "outputs": [
    {
     "data": {
      "image/png": "[encoded data removed]",
      "text/plain": [
       "<matplotlib.figure.Figure at 0x111c8cd90>"
      ]
     },
     "metadata": {},
     "output_type": "display_data"
    }
   ],
   "source": [
    "# multivariate_normal takes covariance matrices as second arg\n",
    "a = (np.random.multivariate_normal([-3, 0], [[2, 0], [0, 2]], size=(100,)))\n",
    "b = (np.random.multivariate_normal([2, 9], [[1, 0], [0, 1]], size=(30,)))\n",
    "X = np.concatenate((a, b))\n",
    "plt.scatter(X[:, 0], X[:, 1])\n",
    "plt.axis('equal');"
   ]
  },
  {
   "cell_type": "code",
   "execution_count": 37,
   "metadata": {
    "ExecuteTime": {
     "end_time": "2018-02-05T23:52:39.034426Z",
     "start_time": "2018-02-05T23:52:39.027568Z"
    }
   },
   "outputs": [
    {
     "name": "stdout",
     "output_type": "stream",
     "text": [
      "(130, 2)\n"
     ]
    }
   ],
   "source": [
    "print X.shape"
   ]
  },
  {
   "cell_type": "code",
   "execution_count": 38,
   "metadata": {
    "ExecuteTime": {
     "end_time": "2018-02-05T23:52:39.045146Z",
     "start_time": "2018-02-05T23:52:39.039548Z"
    }
   },
   "outputs": [],
   "source": [
    "# Generate the linkage matrix (note to self: not sure what this is precisely)\n",
    "Z = linkage(X, 'ward')"
   ]
  },
  {
   "cell_type": "code",
   "execution_count": 39,
   "metadata": {
    "ExecuteTime": {
     "end_time": "2018-02-05T23:52:39.059609Z",
     "start_time": "2018-02-05T23:52:39.052132Z"
    }
   },
   "outputs": [
    {
     "data": {
      "text/plain": [
       "(129, 4)"
      ]
     },
     "execution_count": 39,
     "metadata": {},
     "output_type": "execute_result"
    }
   ],
   "source": [
    "Z.shape"
   ]
  },
  {
   "cell_type": "code",
   "execution_count": 40,
   "metadata": {
    "ExecuteTime": {
     "end_time": "2018-02-05T23:52:39.075626Z",
     "start_time": "2018-02-05T23:52:39.065309Z"
    }
   },
   "outputs": [
    {
     "data": {
      "text/plain": [
       "array([[ 29.        ,  42.        ,   0.02330789,   2.        ],\n",
       "       [120.        , 128.        ,   0.04337138,   2.        ],\n",
       "       [ 25.        ,  92.        ,   0.04765508,   2.        ],\n",
       "       [  4.        ,  64.        ,   0.07387485,   2.        ],\n",
       "       [ 13.        ,  86.        ,   0.08020283,   2.        ],\n",
       "       [ 55.        ,  77.        ,   0.08099026,   2.        ],\n",
       "       [ 14.        , 132.        ,   0.08645782,   3.        ],\n",
       "       [ 66.        ,  73.        ,   0.1036027 ,   2.        ],\n",
       "       [ 44.        ,  90.        ,   0.10724582,   2.        ],\n",
       "       [ 17.        ,  31.        ,   0.11436974,   2.        ]])"
      ]
     },
     "execution_count": 40,
     "metadata": {},
     "output_type": "execute_result"
    }
   ],
   "source": [
    "np.set_printoptions(suppress=True)\n",
    "Z[0:10, :]"
   ]
  },
  {
   "cell_type": "markdown",
   "metadata": {},
   "source": [
    "Each row of the linkage ouput is `[idx1, idx2, distance, sample_count]`. Each row represents an iteration!"
   ]
  },
  {
   "cell_type": "markdown",
   "metadata": {},
   "source": [
    "From the above source:\n",
    "\n",
    "What does 'ward' mean there and how does this actually work?\n",
    "\n",
    "'Ward' is one of the methods that can be used to calculate the distance between newly formed clusters. 'Ward' causes linkage() to use the **Ward variance minimization algorithm**.\n",
    "\n",
    "A good default choice, but it never hurts to play around with some other common linkage methods like 'single', 'complete', 'average', ... and the different distance metrics like **'euclidean' (default)**, 'cityblock' aka Manhattan, 'hamming', 'cosine'... if you have the feeling that your data should not just be clustered to minimize the overall intra-cluster variance in euclidean space. For example, you should have such a weird feeling with long (binary) feature vectors (e.g., word-vectors in text clustering)."
   ]
  },
  {
   "cell_type": "code",
   "execution_count": 41,
   "metadata": {
    "ExecuteTime": {
     "end_time": "2018-02-05T23:52:39.095361Z",
     "start_time": "2018-02-05T23:52:39.079386Z"
    }
   },
   "outputs": [
    {
     "data": {
      "text/plain": [
       "array([[ 29.        ,  42.        ,   0.02330789,   2.        ],\n",
       "       [120.        , 128.        ,   0.04337138,   2.        ],\n",
       "       [ 25.        ,  92.        ,   0.04765508,   2.        ],\n",
       "       [  4.        ,  64.        ,   0.07387485,   2.        ],\n",
       "       [ 13.        ,  86.        ,   0.08020283,   2.        ],\n",
       "       [ 55.        ,  77.        ,   0.08099026,   2.        ],\n",
       "       [ 14.        , 132.        ,   0.08645782,   3.        ],\n",
       "       [ 66.        ,  73.        ,   0.1036027 ,   2.        ],\n",
       "       [ 44.        ,  90.        ,   0.10724582,   2.        ],\n",
       "       [ 17.        ,  31.        ,   0.11436974,   2.        ],\n",
       "       [  1.        ,  37.        ,   0.11610614,   2.        ],\n",
       "       [ 12.        ,  99.        ,   0.11802196,   2.        ],\n",
       "       [109.        , 112.        ,   0.11818143,   2.        ],\n",
       "       [ 87.        ,  97.        ,   0.12908473,   2.        ],\n",
       "       [ 57.        , 136.        ,   0.13026366,   4.        ],\n",
       "       [ 27.        ,  53.        ,   0.13439147,   2.        ],\n",
       "       [ 22.        ,  75.        ,   0.1498831 ,   2.        ],\n",
       "       [ 34.        ,  36.        ,   0.15230228,   2.        ],\n",
       "       [ 52.        , 130.        ,   0.161541  ,   3.        ],\n",
       "       [ 84.        , 135.        ,   0.16257517,   3.        ],\n",
       "       [ 32.        ,  85.        ,   0.17873239,   2.        ],\n",
       "       [  5.        ,  65.        ,   0.18982365,   2.        ],\n",
       "       [ 20.        ,  26.        ,   0.1936996 ,   2.        ],\n",
       "       [ 54.        , 144.        ,   0.19498741,   5.        ],\n",
       "       [102.        , 111.        ,   0.19649648,   2.        ],\n",
       "       [107.        , 124.        ,   0.20019264,   2.        ],\n",
       "       [ 23.        ,  45.        ,   0.20692439,   2.        ],\n",
       "       [ 47.        ,  70.        ,   0.2105835 ,   2.        ],\n",
       "       [ 60.        ,  82.        ,   0.25011145,   2.        ],\n",
       "       [ 49.        ,  62.        ,   0.26759204,   2.        ],\n",
       "       [ 43.        , 141.        ,   0.26893734,   3.        ],\n",
       "       [  7.        ,  19.        ,   0.26945874,   2.        ],\n",
       "       [118.        , 154.        ,   0.27624651,   3.        ],\n",
       "       [ 41.        ,  88.        ,   0.28142507,   2.        ],\n",
       "       [  3.        ,   9.        ,   0.29319316,   2.        ],\n",
       "       [ 21.        , 153.        ,   0.29699175,   6.        ],\n",
       "       [ 72.        ,  89.        ,   0.29948226,   2.        ],\n",
       "       [ 91.        , 149.        ,   0.30648339,   4.        ],\n",
       "       [ 38.        , 137.        ,   0.31400344,   3.        ],\n",
       "       [ 67.        , 161.        ,   0.33134715,   3.        ],\n",
       "       [ 68.        , 163.        ,   0.33722799,   3.        ],\n",
       "       [  2.        ,  94.        ,   0.34743041,   2.        ],\n",
       "       [ 59.        , 143.        ,   0.35634649,   3.        ],\n",
       "       [  8.        , 134.        ,   0.36429393,   3.        ],\n",
       "       [125.        , 126.        ,   0.3715044 ,   2.        ],\n",
       "       [ 78.        , 150.        ,   0.38449135,   3.        ],\n",
       "       [ 51.        ,  71.        ,   0.38581421,   2.        ],\n",
       "       [ 18.        , 147.        ,   0.38741026,   3.        ],\n",
       "       [106.        , 155.        ,   0.38789823,   3.        ],\n",
       "       [ 11.        , 146.        ,   0.39378407,   3.        ],\n",
       "       [ 15.        ,  98.        ,   0.40011317,   2.        ],\n",
       "       [ 48.        ,  79.        ,   0.40177727,   2.        ],\n",
       "       [ 96.        , 164.        ,   0.40967333,   3.        ],\n",
       "       [ 10.        , 156.        ,   0.43687785,   3.        ],\n",
       "       [ 28.        ,  61.        ,   0.46102792,   2.        ],\n",
       "       [139.        , 171.        ,   0.46533981,   4.        ],\n",
       "       [116.        , 123.        ,   0.46961512,   2.        ],\n",
       "       [140.        , 172.        ,   0.47959011,   5.        ],\n",
       "       [162.        , 174.        ,   0.50798274,   5.        ],\n",
       "       [ 56.        , 160.        ,   0.52232127,   4.        ],\n",
       "       [ 74.        ,  76.        ,   0.52759752,   2.        ],\n",
       "       [110.        , 114.        ,   0.57040626,   2.        ],\n",
       "       [ 81.        , 180.        ,   0.57054553,   3.        ],\n",
       "       [ 16.        , 173.        ,   0.5807245 ,   4.        ],\n",
       "       [  0.        ,  33.        ,   0.58963873,   2.        ],\n",
       "       [151.        , 179.        ,   0.6101867 ,   5.        ],\n",
       "       [104.        , 119.        ,   0.61242128,   2.        ],\n",
       "       [ 69.        ,  80.        ,   0.6257382 ,   2.        ],\n",
       "       [ 39.        ,  50.        ,   0.63736278,   2.        ],\n",
       "       [ 40.        , 159.        ,   0.65615081,   3.        ],\n",
       "       [152.        , 177.        ,   0.66526449,   5.        ],\n",
       "       [ 63.        , 182.        ,   0.68113371,   4.        ],\n",
       "       [101.        , 117.        ,   0.68963514,   2.        ],\n",
       "       [167.        , 183.        ,   0.69212095,   7.        ],\n",
       "       [100.        , 142.        ,   0.69972399,   3.        ],\n",
       "       [105.        , 178.        ,   0.73648771,   4.        ],\n",
       "       [158.        , 168.        ,   0.77987355,   5.        ],\n",
       "       [ 24.        ,  30.        ,   0.80242076,   2.        ],\n",
       "       [131.        , 188.        ,   0.8162894 ,   7.        ],\n",
       "       [ 46.        , 195.        ,   0.89668021,   6.        ],\n",
       "       [145.        , 189.        ,   0.91941645,   6.        ],\n",
       "       [ 58.        , 207.        ,   0.95778341,   3.        ],\n",
       "       [166.        , 203.        ,   0.9963374 ,   9.        ],\n",
       "       [181.        , 190.        ,   1.00822472,   4.        ],\n",
       "       [148.        , 187.        ,   1.01107163,   8.        ],\n",
       "       [108.        , 129.        ,   1.01825582,   2.        ],\n",
       "       [122.        , 202.        ,   1.0647615 ,   3.        ],\n",
       "       [186.        , 208.        ,   1.06555982,   9.        ],\n",
       "       [115.        , 191.        ,   1.08359276,   3.        ],\n",
       "       [ 83.        , 193.        ,   1.12204854,   5.        ],\n",
       "       [121.        , 215.        ,   1.13576796,   3.        ],\n",
       "       [169.        , 198.        ,   1.15160055,   5.        ],\n",
       "       [138.        , 200.        ,   1.16386578,   7.        ],\n",
       "       [206.        , 222.        ,   1.21695295,  12.        ],\n",
       "       [103.        , 127.        ,   1.29869955,   2.        ],\n",
       "       [184.        , 210.        ,   1.36861673,   8.        ],\n",
       "       [ 95.        , 197.        ,   1.39054306,   3.        ],\n",
       "       [157.        , 213.        ,   1.43164379,   6.        ],\n",
       "       [133.        , 192.        ,   1.49872951,   5.        ],\n",
       "       [ 35.        ,  93.        ,   1.53765606,   2.        ],\n",
       "       [113.        , 205.        ,   1.55916338,   5.        ],\n",
       "       [196.        , 204.        ,   1.58943907,   5.        ],\n",
       "       [175.        , 176.        ,   1.59943378,   5.        ],\n",
       "       [165.        , 212.        ,   1.90769554,  15.        ],\n",
       "       [  6.        , 226.        ,   2.08619985,   4.        ],\n",
       "       [199.        , 201.        ,   2.11631456,   7.        ],\n",
       "       [214.        , 221.        ,   2.11833226,  13.        ],\n",
       "       [170.        , 225.        ,   2.18208365,  11.        ],\n",
       "       [227.        , 228.        ,   2.28002814,  11.        ],\n",
       "       [218.        , 220.        ,   2.32732026,   6.        ],\n",
       "       [185.        , 233.        ,   2.40990261,  19.        ],\n",
       "       [219.        , 235.        ,   2.41477971,  12.        ],\n",
       "       [194.        , 209.        ,   2.64906645,   8.        ],\n",
       "       [216.        , 217.        ,   2.8258771 ,  12.        ],\n",
       "       [224.        , 231.        ,   2.84476594,   7.        ],\n",
       "       [211.        , 237.        ,   3.25581733,  14.        ],\n",
       "       [230.        , 243.        ,   3.31110905,  17.        ],\n",
       "       [236.        , 242.        ,   4.28287854,  21.        ],\n",
       "       [232.        , 238.        ,   4.65099981,  16.        ],\n",
       "       [223.        , 241.        ,   4.92910287,  24.        ],\n",
       "       [240.        , 245.        ,   5.52796512,  33.        ],\n",
       "       [234.        , 248.        ,   6.30618675,  20.        ],\n",
       "       [229.        , 249.        ,   6.54408249,  26.        ],\n",
       "       [244.        , 246.        ,   6.60477391,  24.        ],\n",
       "       [239.        , 253.        ,   6.96337997,  30.        ],\n",
       "       [247.        , 250.        ,   8.98866153,  54.        ],\n",
       "       [251.        , 252.        ,  14.17212243,  46.        ],\n",
       "       [255.        , 256.        ,  15.09394213, 100.        ],\n",
       "       [254.        , 257.        ,  71.5054245 , 130.        ]])"
      ]
     },
     "execution_count": 41,
     "metadata": {},
     "output_type": "execute_result"
    }
   ],
   "source": [
    "Z"
   ]
  },
  {
   "cell_type": "code",
   "execution_count": 42,
   "metadata": {
    "ExecuteTime": {
     "end_time": "2018-02-05T23:52:40.258751Z",
     "start_time": "2018-02-05T23:52:39.100142Z"
    }
   },
   "outputs": [
    {
     "data": {
      "image/png": "[encoded data removed]",
      "text/plain": [
       "<matplotlib.figure.Figure at 0x111f5b110>"
      ]
     },
     "metadata": {},
     "output_type": "display_data"
    }
   ],
   "source": [
    "plt.figure(figsize=(15, 8))\n",
    "# plt.title('Hierarchical Clustering Dendrogram')\n",
    "plt.xlabel('sample index')\n",
    "plt.ylabel('distance')\n",
    "dendrogram(Z,\n",
    "           leaf_rotation=90.,\n",
    "           leaf_font_size=7.,\n",
    ")\n",
    "plt.show()"
   ]
  },
  {
   "cell_type": "code",
   "execution_count": 43,
   "metadata": {
    "ExecuteTime": {
     "end_time": "2018-02-05T23:52:40.748171Z",
     "start_time": "2018-02-05T23:52:40.263718Z"
    }
   },
   "outputs": [
    {
     "data": {
      "image/png": "[encoded data removed]",
      "text/plain": [
       "<matplotlib.figure.Figure at 0x1125b3c10>"
      ]
     },
     "metadata": {},
     "output_type": "display_data"
    }
   ],
   "source": [
    "plt.figure(figsize=(15, 8))\n",
    "# plt.title('Hierarchical Clustering Dendrogram')\n",
    "plt.xlabel('sample index')\n",
    "plt.ylabel('distance')\n",
    "dendrogram(Z,\n",
    "           truncate_mode='lastp',\n",
    "           p=10,\n",
    "           leaf_rotation=90.,\n",
    "           leaf_font_size=7.,\n",
    "           show_contracted=True\n",
    ")\n",
    "plt.show()"
   ]
  },
  {
   "cell_type": "markdown",
   "metadata": {},
   "source": [
    "### The elbow method: beware"
   ]
  },
  {
   "cell_type": "code",
   "execution_count": 44,
   "metadata": {
    "ExecuteTime": {
     "end_time": "2018-02-05T23:52:40.932014Z",
     "start_time": "2018-02-05T23:52:40.752415Z"
    },
    "scrolled": false
   },
   "outputs": [
    {
     "data": {
      "image/png": "[encoded data removed]",
      "text/plain": [
       "<matplotlib.figure.Figure at 0x111f3ef50>"
      ]
     },
     "metadata": {},
     "output_type": "display_data"
    },
    {
     "name": "stdout",
     "output_type": "stream",
     "text": [
      "clusters: 2\n"
     ]
    }
   ],
   "source": [
    "last = Z[-14:, 2]\n",
    "last_rev = last[::-1]\n",
    "idxs = np.arange(1, len(last) + 1)\n",
    "plt.plot(idxs, last_rev)\n",
    "\n",
    "acceleration = np.diff(last, 2)  # 2nd derivative of the distances\n",
    "acceleration_rev = acceleration[::-1]\n",
    "plt.plot(idxs[:-2] + 1, acceleration_rev)\n",
    "plt.show()\n",
    "k = acceleration_rev.argmax() + 2  # if idx 0 is the max of this we want 2 clusters\n",
    "print \"clusters:\", k"
   ]
  },
  {
   "cell_type": "markdown",
   "metadata": {},
   "source": [
    "## Getting Cluster IDs"
   ]
  },
  {
   "cell_type": "code",
   "execution_count": 45,
   "metadata": {
    "ExecuteTime": {
     "end_time": "2018-02-05T23:52:40.941556Z",
     "start_time": "2018-02-05T23:52:40.936594Z"
    }
   },
   "outputs": [],
   "source": [
    "from scipy.cluster.hierarchy import fcluster"
   ]
  },
  {
   "cell_type": "markdown",
   "metadata": {},
   "source": [
    "### Using a cutoff distance"
   ]
  },
  {
   "cell_type": "code",
   "execution_count": 46,
   "metadata": {
    "ExecuteTime": {
     "end_time": "2018-02-05T23:52:40.955799Z",
     "start_time": "2018-02-05T23:52:40.945666Z"
    }
   },
   "outputs": [
    {
     "data": {
      "text/plain": [
       "array([2, 2, 2, 2, 2, 2, 2, 2, 2, 2, 2, 2, 2, 2, 2, 2, 2, 2, 2, 2, 2, 2,\n",
       "       2, 2, 2, 2, 2, 2, 2, 2, 2, 2, 2, 2, 2, 2, 2, 2, 2, 2, 2, 2, 2, 2,\n",
       "       2, 2, 2, 2, 2, 2, 2, 2, 2, 2, 2, 2, 2, 2, 2, 2, 2, 2, 2, 2, 2, 2,\n",
       "       2, 2, 2, 2, 2, 2, 2, 2, 2, 2, 2, 2, 2, 2, 2, 2, 2, 2, 2, 2, 2, 2,\n",
       "       2, 2, 2, 2, 2, 2, 2, 2, 2, 2, 2, 2, 1, 1, 1, 1, 1, 1, 1, 1, 1, 1,\n",
       "       1, 1, 1, 1, 1, 1, 1, 1, 1, 1, 1, 1, 1, 1, 1, 1, 1, 1, 1, 1],\n",
       "      dtype=int32)"
      ]
     },
     "execution_count": 46,
     "metadata": {},
     "output_type": "execute_result"
    }
   ],
   "source": [
    "max_d = 50 # found manually with help from dendrogram\n",
    "nclust1 = fcluster(Z, max_d, criterion='distance')\n",
    "nclust1"
   ]
  },
  {
   "cell_type": "markdown",
   "metadata": {},
   "source": [
    "### Imposing a known or desired cluster number"
   ]
  },
  {
   "cell_type": "code",
   "execution_count": 47,
   "metadata": {
    "ExecuteTime": {
     "end_time": "2018-02-05T23:52:40.971288Z",
     "start_time": "2018-02-05T23:52:40.959664Z"
    },
    "scrolled": true
   },
   "outputs": [
    {
     "data": {
      "text/plain": [
       "array([2, 2, 2, 2, 2, 2, 2, 2, 2, 2, 2, 2, 2, 2, 2, 2, 2, 2, 2, 2, 2, 2,\n",
       "       2, 2, 2, 2, 2, 2, 2, 2, 2, 2, 2, 2, 2, 2, 2, 2, 2, 2, 2, 2, 2, 2,\n",
       "       2, 2, 2, 2, 2, 2, 2, 2, 2, 2, 2, 2, 2, 2, 2, 2, 2, 2, 2, 2, 2, 2,\n",
       "       2, 2, 2, 2, 2, 2, 2, 2, 2, 2, 2, 2, 2, 2, 2, 2, 2, 2, 2, 2, 2, 2,\n",
       "       2, 2, 2, 2, 2, 2, 2, 2, 2, 2, 2, 2, 1, 1, 1, 1, 1, 1, 1, 1, 1, 1,\n",
       "       1, 1, 1, 1, 1, 1, 1, 1, 1, 1, 1, 1, 1, 1, 1, 1, 1, 1, 1, 1],\n",
       "      dtype=int32)"
      ]
     },
     "execution_count": 47,
     "metadata": {},
     "output_type": "execute_result"
    }
   ],
   "source": [
    "nclust2 = fcluster(Z, 2, criterion='maxclust')# 2 clusters\n",
    "nclust2"
   ]
  },
  {
   "cell_type": "code",
   "execution_count": 48,
   "metadata": {
    "ExecuteTime": {
     "end_time": "2018-02-05T23:52:40.985752Z",
     "start_time": "2018-02-05T23:52:40.975821Z"
    }
   },
   "outputs": [
    {
     "data": {
      "text/plain": [
       "array([0, 0, 0, 0, 0, 0, 0, 0, 0, 0, 0, 0, 0, 0, 0, 0, 0, 0, 0, 0, 0, 0,\n",
       "       0, 0, 0, 0, 0, 0, 0, 0, 0, 0, 0, 0, 0, 0, 0, 0, 0, 0, 0, 0, 0, 0,\n",
       "       0, 0, 0, 0, 0, 0, 0, 0, 0, 0, 0, 0, 0, 0, 0, 0, 0, 0, 0, 0, 0, 0,\n",
       "       0, 0, 0, 0, 0, 0, 0, 0, 0, 0, 0, 0, 0, 0, 0, 0, 0, 0, 0, 0, 0, 0,\n",
       "       0, 0, 0, 0, 0, 0, 0, 0, 0, 0, 0, 0, 0, 0, 0, 0, 0, 0, 0, 0, 0, 0,\n",
       "       0, 0, 0, 0, 0, 0, 0, 0, 0, 0, 0, 0, 0, 0, 0, 0, 0, 0, 0, 0],\n",
       "      dtype=int32)"
      ]
     },
     "execution_count": 48,
     "metadata": {},
     "output_type": "execute_result"
    }
   ],
   "source": [
    "nclust1 - nclust2"
   ]
  },
  {
   "cell_type": "markdown",
   "metadata": {},
   "source": [
    "# DBSCAN\n",
    "\n",
    "Pro: we don't need to specify the number of clusters beforehand.\n",
    "Con: Gaurav found that this crashes the fuck out of python for ~100k data points."
   ]
  },
  {
   "cell_type": "code",
   "execution_count": 49,
   "metadata": {
    "ExecuteTime": {
     "end_time": "2018-02-05T23:52:40.995280Z",
     "start_time": "2018-02-05T23:52:40.990160Z"
    }
   },
   "outputs": [],
   "source": [
    "from sklearn import metrics\n",
    "from sklearn.cluster import DBSCAN\n",
    "from sklearn.preprocessing import StandardScaler"
   ]
  },
  {
   "cell_type": "code",
   "execution_count": 50,
   "metadata": {
    "ExecuteTime": {
     "end_time": "2018-02-05T23:52:41.004764Z",
     "start_time": "2018-02-05T23:52:40.999409Z"
    }
   },
   "outputs": [],
   "source": [
    "X_scaled = StandardScaler().fit_transform(X)"
   ]
  },
  {
   "cell_type": "markdown",
   "metadata": {},
   "source": [
    "DBSCAN magic starts here."
   ]
  },
  {
   "cell_type": "code",
   "execution_count": 51,
   "metadata": {
    "ExecuteTime": {
     "end_time": "2018-02-05T23:52:41.015482Z",
     "start_time": "2018-02-05T23:52:41.008621Z"
    }
   },
   "outputs": [],
   "source": [
    "db = DBSCAN(eps=0.3, min_samples=8).fit(X_scaled)"
   ]
  },
  {
   "cell_type": "code",
   "execution_count": 52,
   "metadata": {
    "ExecuteTime": {
     "end_time": "2018-02-05T23:52:41.024713Z",
     "start_time": "2018-02-05T23:52:41.019203Z"
    }
   },
   "outputs": [],
   "source": [
    "core_samples_mask = np.zeros_like(db.labels_, dtype=bool)"
   ]
  },
  {
   "cell_type": "code",
   "execution_count": 53,
   "metadata": {
    "ExecuteTime": {
     "end_time": "2018-02-05T23:52:41.032797Z",
     "start_time": "2018-02-05T23:52:41.028000Z"
    }
   },
   "outputs": [],
   "source": [
    "core_samples_mask[db.core_sample_indices_] = True"
   ]
  },
  {
   "cell_type": "code",
   "execution_count": 54,
   "metadata": {
    "ExecuteTime": {
     "end_time": "2018-02-05T23:52:41.046112Z",
     "start_time": "2018-02-05T23:52:41.037245Z"
    }
   },
   "outputs": [
    {
     "data": {
      "text/plain": [
       "array([-1,  0,  0,  0,  0,  0, -1,  0,  0,  0,  0,  0,  0,  0,  0,  0,  0,\n",
       "        0,  0,  0,  0,  0,  0,  0,  0,  0,  0,  0,  0,  0, -1,  0, -1,  0,\n",
       "        0, -1,  0,  0,  0,  0,  0,  0,  0,  0,  0,  0,  0,  0,  0,  0,  0,\n",
       "        0,  0,  0,  0,  0,  0,  0,  0,  0,  0,  0,  0,  0,  0,  0,  0,  0,\n",
       "        0,  0,  0,  0,  0,  0,  0,  0,  0,  0, -1,  0, -1,  0,  0, -1,  0,\n",
       "       -1,  0,  0,  0,  0,  0,  0,  0, -1,  0, -1,  0,  0,  0,  0, -1, -1,\n",
       "        1, -1,  1,  1,  1,  1, -1,  1, -1,  1,  1, -1, -1,  1,  1,  1,  1,\n",
       "       -1,  1, -1,  1,  1,  1,  1,  1, -1,  1, -1])"
      ]
     },
     "execution_count": 54,
     "metadata": {},
     "output_type": "execute_result"
    }
   ],
   "source": [
    "dblabels = db.labels_\n",
    "dblabels"
   ]
  },
  {
   "cell_type": "markdown",
   "metadata": {},
   "source": [
    "What is this, three clusters? We'll see and iterate if needed.\n",
    "\n",
    "Oh wait, no: -1 indicates noise, apparently! So we're good."
   ]
  },
  {
   "cell_type": "code",
   "execution_count": 55,
   "metadata": {
    "ExecuteTime": {
     "end_time": "2018-02-05T23:52:41.058649Z",
     "start_time": "2018-02-05T23:52:41.050248Z"
    }
   },
   "outputs": [
    {
     "data": {
      "text/plain": [
       "2"
      ]
     },
     "execution_count": 55,
     "metadata": {},
     "output_type": "execute_result"
    }
   ],
   "source": [
    "nclust_db = len(set(labels)) - (1 if -1 in dblabels else 0)\n",
    "nclust_db"
   ]
  },
  {
   "cell_type": "markdown",
   "metadata": {},
   "source": [
    "Nice!"
   ]
  },
  {
   "cell_type": "code",
   "execution_count": 56,
   "metadata": {
    "ExecuteTime": {
     "end_time": "2018-02-05T23:52:41.067478Z",
     "start_time": "2018-02-05T23:52:41.062933Z"
    }
   },
   "outputs": [],
   "source": [
    "labels_true = nclust1"
   ]
  },
  {
   "cell_type": "code",
   "execution_count": 57,
   "metadata": {
    "ExecuteTime": {
     "end_time": "2018-02-05T23:52:41.087576Z",
     "start_time": "2018-02-05T23:52:41.071505Z"
    }
   },
   "outputs": [
    {
     "name": "stdout",
     "output_type": "stream",
     "text": [
      "Estimated number of clusters: 2\n",
      "Homogeneity: 0.783\n",
      "Completeness: 0.503\n",
      "V-measure: 0.612\n",
      "Adjusted Rand Index: 0.685\n",
      "Adjusted Mutual Information: 0.498\n",
      "Silhouette Coefficient: 0.502\n"
     ]
    }
   ],
   "source": [
    "print 'Estimated number of clusters: %d' % nclust_db\n",
    "print \"Homogeneity: %0.3f\" % metrics.homogeneity_score(labels_true, dblabels)\n",
    "print \"Completeness: %0.3f\" % metrics.completeness_score(labels_true, dblabels)\n",
    "print \"V-measure: %0.3f\" % metrics.v_measure_score(labels_true, dblabels)\n",
    "print \"Adjusted Rand Index: %0.3f\" % metrics.adjusted_rand_score(labels_true, dblabels)\n",
    "print \"Adjusted Mutual Information: %0.3f\" % metrics.adjusted_mutual_info_score(labels_true, dblabels)\n",
    "print \"Silhouette Coefficient: %0.3f\" % metrics.silhouette_score(X, dblabels)"
   ]
  },
  {
   "cell_type": "markdown",
   "metadata": {},
   "source": [
    "**TODO:** look up extreme and typically \"good\" values for these metrics."
   ]
  },
  {
   "cell_type": "code",
   "execution_count": 58,
   "metadata": {
    "ExecuteTime": {
     "end_time": "2018-02-05T23:52:41.337552Z",
     "start_time": "2018-02-05T23:52:41.091511Z"
    }
   },
   "outputs": [
    {
     "data": {
      "image/png": "[encoded data removed]",
      "text/plain": [
       "<matplotlib.figure.Figure at 0x111d9de50>"
      ]
     },
     "metadata": {},
     "output_type": "display_data"
    }
   ],
   "source": [
    "fig, ax = plt.subplots()\n",
    "unique_labels = set(dblabels)\n",
    "colors = [plt.cm.Spectral(each)\n",
    "          for each in np.linspace(0, 1, len(unique_labels))]\n",
    "for k, col in zip(unique_labels, colors):\n",
    "    if k == -1:\n",
    "        # Black used for noise.\n",
    "        col = [0, 0, 0, 1]\n",
    "\n",
    "    class_member_mask = (dblabels == k)\n",
    "\n",
    "    xy = X[class_member_mask & core_samples_mask]\n",
    "    plt.plot(xy[:, 0], xy[:, 1], 'o', markerfacecolor=tuple(col),\n",
    "             markeredgecolor='k', markersize=14)\n",
    "\n",
    "    xy = X[class_member_mask & ~core_samples_mask]\n",
    "    plt.plot(xy[:, 0], xy[:, 1], 'o', markerfacecolor=tuple(col),\n",
    "             markeredgecolor='k', markersize=6)\n",
    "\n",
    "plt.title('Estimated number of clusters: %d' % nclust_db)\n",
    "plt.show()"
   ]
  },
  {
   "cell_type": "markdown",
   "metadata": {},
   "source": [
    "# 4-dimensional example data\n",
    "\n",
    "Let's try this:\n",
    "\n",
    "1. Simulate 5D data (linearly separable for simplicity) using numpy multivariate_normal.\n",
    "2. Run DBSCAN on it.\n",
    "3. Run PCA. Do the first two principal directions look right?\n",
    "4. Run clustering (I guess DBSCAN) along the first 3(?) principal components."
   ]
  },
  {
   "cell_type": "code",
   "execution_count": 59,
   "metadata": {
    "ExecuteTime": {
     "end_time": "2018-02-05T23:52:41.350161Z",
     "start_time": "2018-02-05T23:52:41.341864Z"
    }
   },
   "outputs": [],
   "source": [
    "cov_a = np.array(\\\n",
    "[[1, 0.9, 0.5, 0], \n",
    " [0.9, 1, 0.4, 0],\n",
    " [0.5, 0.4, 1, 0], \n",
    " [0, 0, 0, 1]])\n",
    "\n",
    "cov_b = np.array(\\\n",
    "[[1, 0.9, 0, 0.3], \n",
    " [0.9, 1, 0, 0],\n",
    " [0, 0, 1, -0.4], \n",
    " [0.3, 0, -0.4, 1]])\n",
    "\n",
    "cov_c = np.array(\\\n",
    "[[1, -0.9, 0, -0.3], \n",
    " [-0.9, 1, 0, 0],\n",
    " [0, 0, 1, 0], \n",
    " [-0.3, 0, 0, 1]])"
   ]
  },
  {
   "cell_type": "code",
   "execution_count": 60,
   "metadata": {
    "ExecuteTime": {
     "end_time": "2018-02-05T23:52:41.364857Z",
     "start_time": "2018-02-05T23:52:41.355095Z"
    }
   },
   "outputs": [],
   "source": [
    "# multivariate_normal takes covariance matrices as second arg\n",
    "a = (np.random.multivariate_normal(mean=[0, 1, 2, 3],\n",
    "                                   cov=cov_a, \n",
    "                                   size=(100,)))\n",
    "b = (np.random.multivariate_normal(mean=[3, 4, 5, 6], \n",
    "                                   cov=cov_b, \n",
    "                                   size=(50,)))\n",
    "c = (np.random.multivariate_normal([7, 8, 0, 1],\n",
    "                                   cov=cov_c,  \n",
    "                                   size=(50,)))\n",
    "X = np.concatenate((a, b, c))"
   ]
  },
  {
   "cell_type": "code",
   "execution_count": 61,
   "metadata": {
    "ExecuteTime": {
     "end_time": "2018-02-05T23:52:41.597984Z",
     "start_time": "2018-02-05T23:52:41.368171Z"
    }
   },
   "outputs": [
    {
     "data": {
      "text/plain": [
       "<matplotlib.collections.PathCollection at 0x1122a9650>"
      ]
     },
     "execution_count": 61,
     "metadata": {},
     "output_type": "execute_result"
    },
    {
     "data": {
      "image/png": "[encoded data removed]",
      "text/plain": [
       "<matplotlib.figure.Figure at 0x111c5cad0>"
      ]
     },
     "metadata": {},
     "output_type": "display_data"
    }
   ],
   "source": [
    "plt.scatter(a[:, 0], a[:, 1], color='k')\n",
    "plt.scatter(b[:, 0], b[:, 1], color='b')\n",
    "plt.scatter(c[:, 0], c[:, 1], color='r')"
   ]
  },
  {
   "cell_type": "code",
   "execution_count": 62,
   "metadata": {
    "ExecuteTime": {
     "end_time": "2018-02-05T23:52:41.863429Z",
     "start_time": "2018-02-05T23:52:41.602667Z"
    }
   },
   "outputs": [
    {
     "data": {
      "text/plain": [
       "<matplotlib.collections.PathCollection at 0x111e3d7d0>"
      ]
     },
     "execution_count": 62,
     "metadata": {},
     "output_type": "execute_result"
    },
    {
     "data": {
      "image/png": "[encoded data removed]",
      "text/plain": [
       "<matplotlib.figure.Figure at 0x11224ce90>"
      ]
     },
     "metadata": {},
     "output_type": "display_data"
    }
   ],
   "source": [
    "plt.scatter(a[:, 0], a[:, 2], color='k')\n",
    "plt.scatter(b[:, 0], b[:, 2], color='b')\n",
    "plt.scatter(c[:, 0], c[:, 2], color='r')"
   ]
  },
  {
   "cell_type": "code",
   "execution_count": 63,
   "metadata": {
    "ExecuteTime": {
     "end_time": "2018-02-05T23:52:42.064345Z",
     "start_time": "2018-02-05T23:52:41.867873Z"
    }
   },
   "outputs": [
    {
     "data": {
      "text/plain": [
       "<matplotlib.collections.PathCollection at 0x112036810>"
      ]
     },
     "execution_count": 63,
     "metadata": {},
     "output_type": "execute_result"
    },
    {
     "data": {
      "image/png": "[encoded data removed]",
      "text/plain": [
       "<matplotlib.figure.Figure at 0x1125a1790>"
      ]
     },
     "metadata": {},
     "output_type": "display_data"
    }
   ],
   "source": [
    "plt.scatter(a[:, 2], a[:, 3], color='k')\n",
    "plt.scatter(b[:, 2], b[:, 3], color='b')\n",
    "plt.scatter(c[:, 2], c[:, 3], color='r')"
   ]
  },
  {
   "cell_type": "markdown",
   "metadata": {},
   "source": [
    "I tried and somewhat succeeded in hacking together a toy example with some noticeable linear correlations in it. Let's see if PCA pulls something cool out of this."
   ]
  },
  {
   "cell_type": "code",
   "execution_count": 64,
   "metadata": {
    "ExecuteTime": {
     "end_time": "2018-02-05T23:52:42.073088Z",
     "start_time": "2018-02-05T23:52:42.068472Z"
    }
   },
   "outputs": [],
   "source": [
    "pca = PCA(n_components=2)"
   ]
  },
  {
   "cell_type": "code",
   "execution_count": 65,
   "metadata": {
    "ExecuteTime": {
     "end_time": "2018-02-05T23:52:42.086003Z",
     "start_time": "2018-02-05T23:52:42.077356Z"
    },
    "scrolled": false
   },
   "outputs": [
    {
     "data": {
      "text/plain": [
       "PCA(copy=True, iterated_power='auto', n_components=2, random_state=None,\n",
       "  svd_solver='auto', tol=0.0, whiten=False)"
      ]
     },
     "execution_count": 65,
     "metadata": {},
     "output_type": "execute_result"
    }
   ],
   "source": [
    "pca.fit(X)"
   ]
  },
  {
   "cell_type": "code",
   "execution_count": 66,
   "metadata": {
    "ExecuteTime": {
     "end_time": "2018-02-05T23:52:42.094871Z",
     "start_time": "2018-02-05T23:52:42.089952Z"
    }
   },
   "outputs": [
    {
     "name": "stdout",
     "output_type": "stream",
     "text": [
      "[0.69929878 0.23291274]\n",
      "0.9322115214655102\n"
     ]
    }
   ],
   "source": [
    "print pca.explained_variance_ratio_\n",
    "print pca.explained_variance_ratio_.sum()"
   ]
  },
  {
   "cell_type": "markdown",
   "metadata": {},
   "source": [
    "Okay, the first two principal components still explain the majority of variance, just not quite as dramatically as in the 2D example we started with. This is to be expected, since I didn't put much effort into designing this 5D example around any given linear relationship."
   ]
  },
  {
   "cell_type": "code",
   "execution_count": 67,
   "metadata": {
    "ExecuteTime": {
     "end_time": "2018-02-05T23:52:42.105344Z",
     "start_time": "2018-02-05T23:52:42.099431Z"
    }
   },
   "outputs": [
    {
     "name": "stdout",
     "output_type": "stream",
     "text": [
      "[61.52844125 35.5092212 ]\n"
     ]
    }
   ],
   "source": [
    "# Eigenvalues\n",
    "print pca.singular_values_"
   ]
  },
  {
   "cell_type": "code",
   "execution_count": 68,
   "metadata": {
    "ExecuteTime": {
     "end_time": "2018-02-05T23:52:42.115247Z",
     "start_time": "2018-02-05T23:52:42.110213Z"
    }
   },
   "outputs": [
    {
     "name": "stdout",
     "output_type": "stream",
     "text": [
      "[[ 0.66407757  0.69263603 -0.20300419 -0.19505284]\n",
      " [ 0.20813762  0.18972186  0.65010496  0.70572508]]\n"
     ]
    }
   ],
   "source": [
    "# Eigenvectors\n",
    "print pca.components_"
   ]
  },
  {
   "cell_type": "code",
   "execution_count": 69,
   "metadata": {
    "ExecuteTime": {
     "end_time": "2018-02-05T23:52:42.331519Z",
     "start_time": "2018-02-05T23:52:42.119593Z"
    }
   },
   "outputs": [
    {
     "data": {
      "image/png": "[encoded data removed]",
      "text/plain": [
       "<matplotlib.figure.Figure at 0x11187f610>"
      ]
     },
     "metadata": {},
     "output_type": "display_data"
    }
   ],
   "source": [
    "# Graphical sanity check\n",
    "fig, ax = plt.subplots()\n",
    "ax.scatter(X[:,0], X[:,1])\n",
    "x0 = X[:,0].mean()\n",
    "y0 = X[:,1].mean()\n",
    "for sv, c in zip(pca.singular_values_, pca.components_):\n",
    "    cx = c[0]*sv  \n",
    "    cy = c[1]*sv\n",
    "    ax.arrow(x0, y0, cx, cy, head_width=0.3)\n",
    "plt.axis('equal')\n",
    "# My terrible plot code assumes negative minimum values.\n",
    "ax.set_ylim(4*ax.get_ylim()[0], 4*ax.get_ylim()[1]);"
   ]
  },
  {
   "cell_type": "markdown",
   "metadata": {
    "ExecuteTime": {
     "end_time": "2018-02-05T23:39:20.215854Z",
     "start_time": "2018-02-05T23:39:20.210289Z"
    }
   },
   "source": [
    "# Estimate epsilon for DBSCAN using KNN"
   ]
  },
  {
   "cell_type": "code",
   "execution_count": 70,
   "metadata": {
    "ExecuteTime": {
     "end_time": "2018-02-05T23:52:42.343689Z",
     "start_time": "2018-02-05T23:52:42.336017Z"
    }
   },
   "outputs": [],
   "source": [
    "from sklearn.neighbors import NearestNeighbors\n",
    "nbrs = NearestNeighbors(n_neighbors=4).fit(X)\n",
    "distances, indices = nbrs.kneighbors(X)"
   ]
  },
  {
   "cell_type": "code",
   "execution_count": 71,
   "metadata": {
    "ExecuteTime": {
     "end_time": "2018-02-05T23:52:42.358234Z",
     "start_time": "2018-02-05T23:52:42.348892Z"
    }
   },
   "outputs": [
    {
     "data": {
      "text/plain": [
       "array([[0.        , 0.50117124, 0.71756004, 0.78235323],\n",
       "       [0.        , 0.75866063, 0.78951751, 0.79699628],\n",
       "       [0.        , 1.06678218, 1.14136628, 1.35629844],\n",
       "       [0.        , 0.52383233, 0.61585279, 0.70003083],\n",
       "       [0.        , 0.85481393, 1.29267593, 1.3355837 ],\n",
       "       [0.        , 0.75682904, 0.77828341, 1.03620733],\n",
       "       [0.        , 0.39015736, 0.6826242 , 0.77893007],\n",
       "       [0.        , 0.25325801, 0.46448893, 0.58584135],\n",
       "       [0.        , 0.7261161 , 0.73762602, 1.25061594],\n",
       "       [0.        , 1.10348628, 1.31287591, 1.39822899]])"
      ]
     },
     "execution_count": 71,
     "metadata": {},
     "output_type": "execute_result"
    }
   ],
   "source": [
    "distances[:10, :]"
   ]
  },
  {
   "cell_type": "code",
   "execution_count": 72,
   "metadata": {
    "ExecuteTime": {
     "end_time": "2018-02-05T23:52:42.611067Z",
     "start_time": "2018-02-05T23:52:42.362417Z"
    }
   },
   "outputs": [
    {
     "data": {
      "image/png": "[encoded data removed]",
      "text/plain": [
       "<matplotlib.figure.Figure at 0x111ad6dd0>"
      ]
     },
     "metadata": {},
     "output_type": "display_data"
    }
   ],
   "source": [
    "plt.plot(sorted(distances.mean(axis=1)), color='k');"
   ]
  },
  {
   "cell_type": "markdown",
   "metadata": {},
   "source": [
    "Looks like the \"knee\" in both lines starts taking off y = 0.5, very roughly. So let's set EPS to that in the next cells."
   ]
  },
  {
   "cell_type": "markdown",
   "metadata": {},
   "source": [
    "# DBSCAN on fake data"
   ]
  },
  {
   "cell_type": "code",
   "execution_count": 73,
   "metadata": {
    "ExecuteTime": {
     "end_time": "2018-02-05T23:52:42.620306Z",
     "start_time": "2018-02-05T23:52:42.615077Z"
    }
   },
   "outputs": [],
   "source": [
    "X_scaled = StandardScaler().fit_transform(X)"
   ]
  },
  {
   "cell_type": "code",
   "execution_count": 74,
   "metadata": {
    "ExecuteTime": {
     "end_time": "2018-02-05T23:52:42.632000Z",
     "start_time": "2018-02-05T23:52:42.624411Z"
    }
   },
   "outputs": [],
   "source": [
    "db = DBSCAN(eps=0.5, min_samples=5.3).fit(X_scaled)"
   ]
  },
  {
   "cell_type": "code",
   "execution_count": 75,
   "metadata": {
    "ExecuteTime": {
     "end_time": "2018-02-05T23:52:42.645030Z",
     "start_time": "2018-02-05T23:52:42.635703Z"
    }
   },
   "outputs": [
    {
     "data": {
      "text/plain": [
       "array([ 0,  0, -1,  0,  0,  0,  0,  0, -1,  0,  0, -1,  0,  0,  0,  0,  0,\n",
       "        0,  0,  0,  0,  0,  0,  0,  0, -1,  0,  0,  0,  0,  0, -1,  0,  0,\n",
       "        0,  0,  0, -1, -1,  0,  0,  0,  0,  0,  0,  0,  0,  0,  0,  0,  0,\n",
       "       -1,  0,  0,  0,  0,  0,  0, -1, -1,  0,  0,  0, -1,  0,  0,  0,  0,\n",
       "        0,  0,  0,  0,  0,  0, -1,  0,  0,  0, -1,  0, -1,  0, -1,  0,  0,\n",
       "        0,  0,  0,  0,  0,  0, -1,  0,  0,  0, -1,  0,  0, -1,  0,  1,  1,\n",
       "        1,  1,  1, -1, -1,  1,  1,  1,  1,  1,  1,  1, -1, -1,  1,  1, -1,\n",
       "        1,  1, -1,  1,  1,  1,  1,  1,  1, -1,  1,  1,  1,  1,  1,  1,  1,\n",
       "        1,  1, -1, -1,  1,  1,  1,  1,  1,  1,  1,  1, -1,  1,  2,  2, -1,\n",
       "       -1, -1,  2, -1, -1, -1,  2,  2,  2, -1, -1,  2,  2, -1,  2,  2, -1,\n",
       "        2,  2,  2,  2, -1,  2,  2,  2, -1, -1, -1,  2, -1,  2, -1, -1,  2,\n",
       "       -1, -1,  2, -1,  2,  2,  2,  2, -1, -1,  2,  2, -1])"
      ]
     },
     "execution_count": 75,
     "metadata": {},
     "output_type": "execute_result"
    }
   ],
   "source": [
    "db.labels_"
   ]
  },
  {
   "cell_type": "code",
   "execution_count": 76,
   "metadata": {
    "ExecuteTime": {
     "end_time": "2018-02-05T23:52:42.653122Z",
     "start_time": "2018-02-05T23:52:42.649359Z"
    }
   },
   "outputs": [],
   "source": [
    "core_samples_mask = np.zeros_like(db.labels_, dtype=bool)"
   ]
  },
  {
   "cell_type": "code",
   "execution_count": 77,
   "metadata": {
    "ExecuteTime": {
     "end_time": "2018-02-05T23:52:42.661928Z",
     "start_time": "2018-02-05T23:52:42.657261Z"
    }
   },
   "outputs": [],
   "source": [
    "core_samples_mask[db.core_sample_indices_] = True"
   ]
  },
  {
   "cell_type": "code",
   "execution_count": 78,
   "metadata": {
    "ExecuteTime": {
     "end_time": "2018-02-05T23:52:42.675557Z",
     "start_time": "2018-02-05T23:52:42.665953Z"
    }
   },
   "outputs": [
    {
     "data": {
      "text/plain": [
       "array([ 0,  0, -1,  0,  0,  0,  0,  0, -1,  0,  0, -1,  0,  0,  0,  0,  0,\n",
       "        0,  0,  0,  0,  0,  0,  0,  0, -1,  0,  0,  0,  0,  0, -1,  0,  0,\n",
       "        0,  0,  0, -1, -1,  0,  0,  0,  0,  0,  0,  0,  0,  0,  0,  0,  0,\n",
       "       -1,  0,  0,  0,  0,  0,  0, -1, -1,  0,  0,  0, -1,  0,  0,  0,  0,\n",
       "        0,  0,  0,  0,  0,  0, -1,  0,  0,  0, -1,  0, -1,  0, -1,  0,  0,\n",
       "        0,  0,  0,  0,  0,  0, -1,  0,  0,  0, -1,  0,  0, -1,  0,  1,  1,\n",
       "        1,  1,  1, -1, -1,  1,  1,  1,  1,  1,  1,  1, -1, -1,  1,  1, -1,\n",
       "        1,  1, -1,  1,  1,  1,  1,  1,  1, -1,  1,  1,  1,  1,  1,  1,  1,\n",
       "        1,  1, -1, -1,  1,  1,  1,  1,  1,  1,  1,  1, -1,  1,  2,  2, -1,\n",
       "       -1, -1,  2, -1, -1, -1,  2,  2,  2, -1, -1,  2,  2, -1,  2,  2, -1,\n",
       "        2,  2,  2,  2, -1,  2,  2,  2, -1, -1, -1,  2, -1,  2, -1, -1,  2,\n",
       "       -1, -1,  2, -1,  2,  2,  2,  2, -1, -1,  2,  2, -1])"
      ]
     },
     "execution_count": 78,
     "metadata": {},
     "output_type": "execute_result"
    }
   ],
   "source": [
    "dblabels = db.labels_\n",
    "dblabels"
   ]
  },
  {
   "cell_type": "code",
   "execution_count": 79,
   "metadata": {
    "ExecuteTime": {
     "end_time": "2018-02-05T23:52:42.688982Z",
     "start_time": "2018-02-05T23:52:42.679814Z"
    }
   },
   "outputs": [
    {
     "data": {
      "text/plain": [
       "3"
      ]
     },
     "execution_count": 79,
     "metadata": {},
     "output_type": "execute_result"
    }
   ],
   "source": [
    "nclust_db = len(set(dblabels)) - (1 if -1 in dblabels else 0)\n",
    "nclust_db"
   ]
  },
  {
   "cell_type": "code",
   "execution_count": 80,
   "metadata": {
    "ExecuteTime": {
     "end_time": "2018-02-05T23:52:42.696761Z",
     "start_time": "2018-02-05T23:52:42.692034Z"
    }
   },
   "outputs": [],
   "source": [
    "labels_true = np.array([0]*100 + [1]*50 + [2]*50)"
   ]
  },
  {
   "cell_type": "code",
   "execution_count": 81,
   "metadata": {
    "ExecuteTime": {
     "end_time": "2018-02-05T23:52:42.717086Z",
     "start_time": "2018-02-05T23:52:42.700714Z"
    }
   },
   "outputs": [
    {
     "name": "stdout",
     "output_type": "stream",
     "text": [
      "Estimated number of clusters: 3\n",
      "Homogeneity: 0.743\n",
      "Completeness: 0.592\n",
      "V-measure: 0.659\n",
      "Adjusted Rand Index: 0.625\n",
      "Adjusted Mutual Information: 0.587\n",
      "Silhouette Coefficient: 0.341\n"
     ]
    }
   ],
   "source": [
    "print 'Estimated number of clusters: %d' % nclust_db\n",
    "print \"Homogeneity: %0.3f\" % metrics.homogeneity_score(labels_true, dblabels)\n",
    "print \"Completeness: %0.3f\" % metrics.completeness_score(labels_true, dblabels)\n",
    "print \"V-measure: %0.3f\" % metrics.v_measure_score(labels_true, dblabels)\n",
    "print \"Adjusted Rand Index: %0.3f\" % metrics.adjusted_rand_score(labels_true, dblabels)\n",
    "print \"Adjusted Mutual Information: %0.3f\" % metrics.adjusted_mutual_info_score(labels_true, dblabels)\n",
    "print \"Silhouette Coefficient: %0.3f\" % metrics.silhouette_score(X, dblabels)"
   ]
  },
  {
   "cell_type": "code",
   "execution_count": 82,
   "metadata": {
    "ExecuteTime": {
     "end_time": "2018-02-05T23:52:42.965817Z",
     "start_time": "2018-02-05T23:52:42.721098Z"
    }
   },
   "outputs": [
    {
     "data": {
      "image/png": "[encoded data removed]",
      "text/plain": [
       "<matplotlib.figure.Figure at 0x1121195d0>"
      ]
     },
     "metadata": {},
     "output_type": "display_data"
    }
   ],
   "source": [
    "fig, ax = plt.subplots()\n",
    "unique_labels = set(dblabels)\n",
    "colors = [plt.cm.Spectral(each)\n",
    "          for each in np.linspace(0, 1, len(unique_labels))]\n",
    "for k, col in zip(unique_labels, colors):\n",
    "    if k == -1:\n",
    "        # Black used for noise.\n",
    "        col = [0, 0, 0, 1]\n",
    "\n",
    "    class_member_mask = (dblabels == k)\n",
    "\n",
    "    xy = X[class_member_mask & core_samples_mask]\n",
    "    plt.plot(xy[:, 0], xy[:, 1], 'o', markerfacecolor=tuple(col),\n",
    "             markeredgecolor='k', markersize=14)\n",
    "\n",
    "    xy = X[class_member_mask & ~core_samples_mask]\n",
    "    plt.plot(xy[:, 0], xy[:, 1], 'o', markerfacecolor=tuple(col),\n",
    "             markeredgecolor='k', markersize=6)\n",
    "\n",
    "plt.title('Estimated number of clusters: %d' % nclust_db)\n",
    "plt.show()"
   ]
  },
  {
   "cell_type": "markdown",
   "metadata": {},
   "source": [
    "---"
   ]
  },
  {
   "cell_type": "markdown",
   "metadata": {},
   "source": [
    "# Facets Dive\n",
    "\n",
    "The following is boilerplate straight from and `facets_dive/Dive_demo.ipynb`."
   ]
  },
  {
   "cell_type": "code",
   "execution_count": 83,
   "metadata": {
    "ExecuteTime": {
     "end_time": "2018-02-05T23:52:42.981369Z",
     "start_time": "2018-02-05T23:52:42.969939Z"
    }
   },
   "outputs": [
    {
     "data": {
      "text/html": [
       "<link rel=\"import\" href=\"/nbextensions/facets-dist/facets-jupyter.html\">\n",
       "        <facets-dive id=\"elem\" height=\"600\"></facets-dive>\n",
       "        <script>\n",
       "          var data = [{\"sepal length (cm)\":5.1,\"sepal width (cm)\":3.5,\"petal length (cm)\":1.4,\"petal width (cm)\":0.2},{\"sepal length (cm)\":4.9,\"sepal width (cm)\":3.0,\"petal length (cm)\":1.4,\"petal width (cm)\":0.2},{\"sepal length (cm)\":4.7,\"sepal width (cm)\":3.2,\"petal length (cm)\":1.3,\"petal width (cm)\":0.2},{\"sepal length (cm)\":4.6,\"sepal width (cm)\":3.1,\"petal length (cm)\":1.5,\"petal width (cm)\":0.2},{\"sepal length (cm)\":5.0,\"sepal width (cm)\":3.6,\"petal length (cm)\":1.4,\"petal width (cm)\":0.2},{\"sepal length (cm)\":5.4,\"sepal width (cm)\":3.9,\"petal length (cm)\":1.7,\"petal width (cm)\":0.4},{\"sepal length (cm)\":4.6,\"sepal width (cm)\":3.4,\"petal length (cm)\":1.4,\"petal width (cm)\":0.3},{\"sepal length (cm)\":5.0,\"sepal width (cm)\":3.4,\"petal length (cm)\":1.5,\"petal width (cm)\":0.2},{\"sepal length (cm)\":4.4,\"sepal width (cm)\":2.9,\"petal length (cm)\":1.4,\"petal width (cm)\":0.2},{\"sepal length (cm)\":4.9,\"sepal width (cm)\":3.1,\"petal length (cm)\":1.5,\"petal width (cm)\":0.1},{\"sepal length (cm)\":5.4,\"sepal width (cm)\":3.7,\"petal length (cm)\":1.5,\"petal width (cm)\":0.2},{\"sepal length (cm)\":4.8,\"sepal width (cm)\":3.4,\"petal length (cm)\":1.6,\"petal width (cm)\":0.2},{\"sepal length (cm)\":4.8,\"sepal width (cm)\":3.0,\"petal length (cm)\":1.4,\"petal width (cm)\":0.1},{\"sepal length (cm)\":4.3,\"sepal width (cm)\":3.0,\"petal length (cm)\":1.1,\"petal width (cm)\":0.1},{\"sepal length (cm)\":5.8,\"sepal width (cm)\":4.0,\"petal length (cm)\":1.2,\"petal width (cm)\":0.2},{\"sepal length (cm)\":5.7,\"sepal width (cm)\":4.4,\"petal length (cm)\":1.5,\"petal width (cm)\":0.4},{\"sepal length (cm)\":5.4,\"sepal width (cm)\":3.9,\"petal length (cm)\":1.3,\"petal width (cm)\":0.4},{\"sepal length (cm)\":5.1,\"sepal width (cm)\":3.5,\"petal length (cm)\":1.4,\"petal width (cm)\":0.3},{\"sepal length (cm)\":5.7,\"sepal width (cm)\":3.8,\"petal length (cm)\":1.7,\"petal width (cm)\":0.3},{\"sepal length (cm)\":5.1,\"sepal width (cm)\":3.8,\"petal length (cm)\":1.5,\"petal width (cm)\":0.3},{\"sepal length (cm)\":5.4,\"sepal width (cm)\":3.4,\"petal length (cm)\":1.7,\"petal width (cm)\":0.2},{\"sepal length (cm)\":5.1,\"sepal width (cm)\":3.7,\"petal length (cm)\":1.5,\"petal width (cm)\":0.4},{\"sepal length (cm)\":4.6,\"sepal width (cm)\":3.6,\"petal length (cm)\":1.0,\"petal width (cm)\":0.2},{\"sepal length (cm)\":5.1,\"sepal width (cm)\":3.3,\"petal length (cm)\":1.7,\"petal width (cm)\":0.5},{\"sepal length (cm)\":4.8,\"sepal width (cm)\":3.4,\"petal length (cm)\":1.9,\"petal width (cm)\":0.2},{\"sepal length (cm)\":5.0,\"sepal width (cm)\":3.0,\"petal length (cm)\":1.6,\"petal width (cm)\":0.2},{\"sepal length (cm)\":5.0,\"sepal width (cm)\":3.4,\"petal length (cm)\":1.6,\"petal width (cm)\":0.4},{\"sepal length (cm)\":5.2,\"sepal width (cm)\":3.5,\"petal length (cm)\":1.5,\"petal width (cm)\":0.2},{\"sepal length (cm)\":5.2,\"sepal width (cm)\":3.4,\"petal length (cm)\":1.4,\"petal width (cm)\":0.2},{\"sepal length (cm)\":4.7,\"sepal width (cm)\":3.2,\"petal length (cm)\":1.6,\"petal width (cm)\":0.2},{\"sepal length (cm)\":4.8,\"sepal width (cm)\":3.1,\"petal length (cm)\":1.6,\"petal width (cm)\":0.2},{\"sepal length (cm)\":5.4,\"sepal width (cm)\":3.4,\"petal length (cm)\":1.5,\"petal width (cm)\":0.4},{\"sepal length (cm)\":5.2,\"sepal width (cm)\":4.1,\"petal length (cm)\":1.5,\"petal width (cm)\":0.1},{\"sepal length (cm)\":5.5,\"sepal width (cm)\":4.2,\"petal length (cm)\":1.4,\"petal width (cm)\":0.2},{\"sepal length (cm)\":4.9,\"sepal width (cm)\":3.1,\"petal length (cm)\":1.5,\"petal width (cm)\":0.1},{\"sepal length (cm)\":5.0,\"sepal width (cm)\":3.2,\"petal length (cm)\":1.2,\"petal width (cm)\":0.2},{\"sepal length (cm)\":5.5,\"sepal width (cm)\":3.5,\"petal length (cm)\":1.3,\"petal width (cm)\":0.2},{\"sepal length (cm)\":4.9,\"sepal width (cm)\":3.1,\"petal length (cm)\":1.5,\"petal width (cm)\":0.1},{\"sepal length (cm)\":4.4,\"sepal width (cm)\":3.0,\"petal length (cm)\":1.3,\"petal width (cm)\":0.2},{\"sepal length (cm)\":5.1,\"sepal width (cm)\":3.4,\"petal length (cm)\":1.5,\"petal width (cm)\":0.2},{\"sepal length (cm)\":5.0,\"sepal width (cm)\":3.5,\"petal length (cm)\":1.3,\"petal width (cm)\":0.3},{\"sepal length (cm)\":4.5,\"sepal width (cm)\":2.3,\"petal length (cm)\":1.3,\"petal width (cm)\":0.3},{\"sepal length (cm)\":4.4,\"sepal width (cm)\":3.2,\"petal length (cm)\":1.3,\"petal width (cm)\":0.2},{\"sepal length (cm)\":5.0,\"sepal width (cm)\":3.5,\"petal length (cm)\":1.6,\"petal width (cm)\":0.6},{\"sepal length (cm)\":5.1,\"sepal width (cm)\":3.8,\"petal length (cm)\":1.9,\"petal width (cm)\":0.4},{\"sepal length (cm)\":4.8,\"sepal width (cm)\":3.0,\"petal length (cm)\":1.4,\"petal width (cm)\":0.3},{\"sepal length (cm)\":5.1,\"sepal width (cm)\":3.8,\"petal length (cm)\":1.6,\"petal width (cm)\":0.2},{\"sepal length (cm)\":4.6,\"sepal width (cm)\":3.2,\"petal length (cm)\":1.4,\"petal width (cm)\":0.2},{\"sepal length (cm)\":5.3,\"sepal width (cm)\":3.7,\"petal length (cm)\":1.5,\"petal width (cm)\":0.2},{\"sepal length (cm)\":5.0,\"sepal width (cm)\":3.3,\"petal length (cm)\":1.4,\"petal width (cm)\":0.2},{\"sepal length (cm)\":7.0,\"sepal width (cm)\":3.2,\"petal length (cm)\":4.7,\"petal width (cm)\":1.4},{\"sepal length (cm)\":6.4,\"sepal width (cm)\":3.2,\"petal length (cm)\":4.5,\"petal width (cm)\":1.5},{\"sepal length (cm)\":6.9,\"sepal width (cm)\":3.1,\"petal length (cm)\":4.9,\"petal width (cm)\":1.5},{\"sepal length (cm)\":5.5,\"sepal width (cm)\":2.3,\"petal length (cm)\":4.0,\"petal width (cm)\":1.3},{\"sepal length (cm)\":6.5,\"sepal width (cm)\":2.8,\"petal length (cm)\":4.6,\"petal width (cm)\":1.5},{\"sepal length (cm)\":5.7,\"sepal width (cm)\":2.8,\"petal length (cm)\":4.5,\"petal width (cm)\":1.3},{\"sepal length (cm)\":6.3,\"sepal width (cm)\":3.3,\"petal length (cm)\":4.7,\"petal width (cm)\":1.6},{\"sepal length (cm)\":4.9,\"sepal width (cm)\":2.4,\"petal length (cm)\":3.3,\"petal width (cm)\":1.0},{\"sepal length (cm)\":6.6,\"sepal width (cm)\":2.9,\"petal length (cm)\":4.6,\"petal width (cm)\":1.3},{\"sepal length (cm)\":5.2,\"sepal width (cm)\":2.7,\"petal length (cm)\":3.9,\"petal width (cm)\":1.4},{\"sepal length (cm)\":5.0,\"sepal width (cm)\":2.0,\"petal length (cm)\":3.5,\"petal width (cm)\":1.0},{\"sepal length (cm)\":5.9,\"sepal width (cm)\":3.0,\"petal length (cm)\":4.2,\"petal width (cm)\":1.5},{\"sepal length (cm)\":6.0,\"sepal width (cm)\":2.2,\"petal length (cm)\":4.0,\"petal width (cm)\":1.0},{\"sepal length (cm)\":6.1,\"sepal width (cm)\":2.9,\"petal length (cm)\":4.7,\"petal width (cm)\":1.4},{\"sepal length (cm)\":5.6,\"sepal width (cm)\":2.9,\"petal length (cm)\":3.6,\"petal width (cm)\":1.3},{\"sepal length (cm)\":6.7,\"sepal width (cm)\":3.1,\"petal length (cm)\":4.4,\"petal width (cm)\":1.4},{\"sepal length (cm)\":5.6,\"sepal width (cm)\":3.0,\"petal length (cm)\":4.5,\"petal width (cm)\":1.5},{\"sepal length (cm)\":5.8,\"sepal width (cm)\":2.7,\"petal length (cm)\":4.1,\"petal width (cm)\":1.0},{\"sepal length (cm)\":6.2,\"sepal width (cm)\":2.2,\"petal length (cm)\":4.5,\"petal width (cm)\":1.5},{\"sepal length (cm)\":5.6,\"sepal width (cm)\":2.5,\"petal length (cm)\":3.9,\"petal width (cm)\":1.1},{\"sepal length (cm)\":5.9,\"sepal width (cm)\":3.2,\"petal length (cm)\":4.8,\"petal width (cm)\":1.8},{\"sepal length (cm)\":6.1,\"sepal width (cm)\":2.8,\"petal length (cm)\":4.0,\"petal width (cm)\":1.3},{\"sepal length (cm)\":6.3,\"sepal width (cm)\":2.5,\"petal length (cm)\":4.9,\"petal width (cm)\":1.5},{\"sepal length (cm)\":6.1,\"sepal width (cm)\":2.8,\"petal length (cm)\":4.7,\"petal width (cm)\":1.2},{\"sepal length (cm)\":6.4,\"sepal width (cm)\":2.9,\"petal length (cm)\":4.3,\"petal width (cm)\":1.3},{\"sepal length (cm)\":6.6,\"sepal width (cm)\":3.0,\"petal length (cm)\":4.4,\"petal width (cm)\":1.4},{\"sepal length (cm)\":6.8,\"sepal width (cm)\":2.8,\"petal length (cm)\":4.8,\"petal width (cm)\":1.4},{\"sepal length (cm)\":6.7,\"sepal width (cm)\":3.0,\"petal length (cm)\":5.0,\"petal width (cm)\":1.7},{\"sepal length (cm)\":6.0,\"sepal width (cm)\":2.9,\"petal length (cm)\":4.5,\"petal width (cm)\":1.5},{\"sepal length (cm)\":5.7,\"sepal width (cm)\":2.6,\"petal length (cm)\":3.5,\"petal width (cm)\":1.0},{\"sepal length (cm)\":5.5,\"sepal width (cm)\":2.4,\"petal length (cm)\":3.8,\"petal width (cm)\":1.1},{\"sepal length (cm)\":5.5,\"sepal width (cm)\":2.4,\"petal length (cm)\":3.7,\"petal width (cm)\":1.0},{\"sepal length (cm)\":5.8,\"sepal width (cm)\":2.7,\"petal length (cm)\":3.9,\"petal width (cm)\":1.2},{\"sepal length (cm)\":6.0,\"sepal width (cm)\":2.7,\"petal length (cm)\":5.1,\"petal width (cm)\":1.6},{\"sepal length (cm)\":5.4,\"sepal width (cm)\":3.0,\"petal length (cm)\":4.5,\"petal width (cm)\":1.5},{\"sepal length (cm)\":6.0,\"sepal width (cm)\":3.4,\"petal length (cm)\":4.5,\"petal width (cm)\":1.6},{\"sepal length (cm)\":6.7,\"sepal width (cm)\":3.1,\"petal length (cm)\":4.7,\"petal width (cm)\":1.5},{\"sepal length (cm)\":6.3,\"sepal width (cm)\":2.3,\"petal length (cm)\":4.4,\"petal width (cm)\":1.3},{\"sepal length (cm)\":5.6,\"sepal width (cm)\":3.0,\"petal length (cm)\":4.1,\"petal width (cm)\":1.3},{\"sepal length (cm)\":5.5,\"sepal width (cm)\":2.5,\"petal length (cm)\":4.0,\"petal width (cm)\":1.3},{\"sepal length (cm)\":5.5,\"sepal width (cm)\":2.6,\"petal length (cm)\":4.4,\"petal width (cm)\":1.2},{\"sepal length (cm)\":6.1,\"sepal width (cm)\":3.0,\"petal length (cm)\":4.6,\"petal width (cm)\":1.4},{\"sepal length (cm)\":5.8,\"sepal width (cm)\":2.6,\"petal length (cm)\":4.0,\"petal width (cm)\":1.2},{\"sepal length (cm)\":5.0,\"sepal width (cm)\":2.3,\"petal length (cm)\":3.3,\"petal width (cm)\":1.0},{\"sepal length (cm)\":5.6,\"sepal width (cm)\":2.7,\"petal length (cm)\":4.2,\"petal width (cm)\":1.3},{\"sepal length (cm)\":5.7,\"sepal width (cm)\":3.0,\"petal length (cm)\":4.2,\"petal width (cm)\":1.2},{\"sepal length (cm)\":5.7,\"sepal width (cm)\":2.9,\"petal length (cm)\":4.2,\"petal width (cm)\":1.3},{\"sepal length (cm)\":6.2,\"sepal width (cm)\":2.9,\"petal length (cm)\":4.3,\"petal width (cm)\":1.3},{\"sepal length (cm)\":5.1,\"sepal width (cm)\":2.5,\"petal length (cm)\":3.0,\"petal width (cm)\":1.1},{\"sepal length (cm)\":5.7,\"sepal width (cm)\":2.8,\"petal length (cm)\":4.1,\"petal width (cm)\":1.3},{\"sepal length (cm)\":6.3,\"sepal width (cm)\":3.3,\"petal length (cm)\":6.0,\"petal width (cm)\":2.5},{\"sepal length (cm)\":5.8,\"sepal width (cm)\":2.7,\"petal length (cm)\":5.1,\"petal width (cm)\":1.9},{\"sepal length (cm)\":7.1,\"sepal width (cm)\":3.0,\"petal length (cm)\":5.9,\"petal width (cm)\":2.1},{\"sepal length (cm)\":6.3,\"sepal width (cm)\":2.9,\"petal length (cm)\":5.6,\"petal width (cm)\":1.8},{\"sepal length (cm)\":6.5,\"sepal width (cm)\":3.0,\"petal length (cm)\":5.8,\"petal width (cm)\":2.2},{\"sepal length (cm)\":7.6,\"sepal width (cm)\":3.0,\"petal length (cm)\":6.6,\"petal width (cm)\":2.1},{\"sepal length (cm)\":4.9,\"sepal width (cm)\":2.5,\"petal length (cm)\":4.5,\"petal width (cm)\":1.7},{\"sepal length (cm)\":7.3,\"sepal width (cm)\":2.9,\"petal length (cm)\":6.3,\"petal width (cm)\":1.8},{\"sepal length (cm)\":6.7,\"sepal width (cm)\":2.5,\"petal length (cm)\":5.8,\"petal width (cm)\":1.8},{\"sepal length (cm)\":7.2,\"sepal width (cm)\":3.6,\"petal length (cm)\":6.1,\"petal width (cm)\":2.5},{\"sepal length (cm)\":6.5,\"sepal width (cm)\":3.2,\"petal length (cm)\":5.1,\"petal width (cm)\":2.0},{\"sepal length (cm)\":6.4,\"sepal width (cm)\":2.7,\"petal length (cm)\":5.3,\"petal width (cm)\":1.9},{\"sepal length (cm)\":6.8,\"sepal width (cm)\":3.0,\"petal length (cm)\":5.5,\"petal width (cm)\":2.1},{\"sepal length (cm)\":5.7,\"sepal width (cm)\":2.5,\"petal length (cm)\":5.0,\"petal width (cm)\":2.0},{\"sepal length (cm)\":5.8,\"sepal width (cm)\":2.8,\"petal length (cm)\":5.1,\"petal width (cm)\":2.4},{\"sepal length (cm)\":6.4,\"sepal width (cm)\":3.2,\"petal length (cm)\":5.3,\"petal width (cm)\":2.3},{\"sepal length (cm)\":6.5,\"sepal width (cm)\":3.0,\"petal length (cm)\":5.5,\"petal width (cm)\":1.8},{\"sepal length (cm)\":7.7,\"sepal width (cm)\":3.8,\"petal length (cm)\":6.7,\"petal width (cm)\":2.2},{\"sepal length (cm)\":7.7,\"sepal width (cm)\":2.6,\"petal length (cm)\":6.9,\"petal width (cm)\":2.3},{\"sepal length (cm)\":6.0,\"sepal width (cm)\":2.2,\"petal length (cm)\":5.0,\"petal width (cm)\":1.5},{\"sepal length (cm)\":6.9,\"sepal width (cm)\":3.2,\"petal length (cm)\":5.7,\"petal width (cm)\":2.3},{\"sepal length (cm)\":5.6,\"sepal width (cm)\":2.8,\"petal length (cm)\":4.9,\"petal width (cm)\":2.0},{\"sepal length (cm)\":7.7,\"sepal width (cm)\":2.8,\"petal length (cm)\":6.7,\"petal width (cm)\":2.0},{\"sepal length (cm)\":6.3,\"sepal width (cm)\":2.7,\"petal length (cm)\":4.9,\"petal width (cm)\":1.8},{\"sepal length (cm)\":6.7,\"sepal width (cm)\":3.3,\"petal length (cm)\":5.7,\"petal width (cm)\":2.1},{\"sepal length (cm)\":7.2,\"sepal width (cm)\":3.2,\"petal length (cm)\":6.0,\"petal width (cm)\":1.8},{\"sepal length (cm)\":6.2,\"sepal width (cm)\":2.8,\"petal length (cm)\":4.8,\"petal width (cm)\":1.8},{\"sepal length (cm)\":6.1,\"sepal width (cm)\":3.0,\"petal length (cm)\":4.9,\"petal width (cm)\":1.8},{\"sepal length (cm)\":6.4,\"sepal width (cm)\":2.8,\"petal length (cm)\":5.6,\"petal width (cm)\":2.1},{\"sepal length (cm)\":7.2,\"sepal width (cm)\":3.0,\"petal length (cm)\":5.8,\"petal width (cm)\":1.6},{\"sepal length (cm)\":7.4,\"sepal width (cm)\":2.8,\"petal length (cm)\":6.1,\"petal width (cm)\":1.9},{\"sepal length (cm)\":7.9,\"sepal width (cm)\":3.8,\"petal length (cm)\":6.4,\"petal width (cm)\":2.0},{\"sepal length (cm)\":6.4,\"sepal width (cm)\":2.8,\"petal length (cm)\":5.6,\"petal width (cm)\":2.2},{\"sepal length (cm)\":6.3,\"sepal width (cm)\":2.8,\"petal length (cm)\":5.1,\"petal width (cm)\":1.5},{\"sepal length (cm)\":6.1,\"sepal width (cm)\":2.6,\"petal length (cm)\":5.6,\"petal width (cm)\":1.4},{\"sepal length (cm)\":7.7,\"sepal width (cm)\":3.0,\"petal length (cm)\":6.1,\"petal width (cm)\":2.3},{\"sepal length (cm)\":6.3,\"sepal width (cm)\":3.4,\"petal length (cm)\":5.6,\"petal width (cm)\":2.4},{\"sepal length (cm)\":6.4,\"sepal width (cm)\":3.1,\"petal length (cm)\":5.5,\"petal width (cm)\":1.8},{\"sepal length (cm)\":6.0,\"sepal width (cm)\":3.0,\"petal length (cm)\":4.8,\"petal width (cm)\":1.8},{\"sepal length (cm)\":6.9,\"sepal width (cm)\":3.1,\"petal length (cm)\":5.4,\"petal width (cm)\":2.1},{\"sepal length (cm)\":6.7,\"sepal width (cm)\":3.1,\"petal length (cm)\":5.6,\"petal width (cm)\":2.4},{\"sepal length (cm)\":6.9,\"sepal width (cm)\":3.1,\"petal length (cm)\":5.1,\"petal width (cm)\":2.3},{\"sepal length (cm)\":5.8,\"sepal width (cm)\":2.7,\"petal length (cm)\":5.1,\"petal width (cm)\":1.9},{\"sepal length (cm)\":6.8,\"sepal width (cm)\":3.2,\"petal length (cm)\":5.9,\"petal width (cm)\":2.3},{\"sepal length (cm)\":6.7,\"sepal width (cm)\":3.3,\"petal length (cm)\":5.7,\"petal width (cm)\":2.5},{\"sepal length (cm)\":6.7,\"sepal width (cm)\":3.0,\"petal length (cm)\":5.2,\"petal width (cm)\":2.3},{\"sepal length (cm)\":6.3,\"sepal width (cm)\":2.5,\"petal length (cm)\":5.0,\"petal width (cm)\":1.9},{\"sepal length (cm)\":6.5,\"sepal width (cm)\":3.0,\"petal length (cm)\":5.2,\"petal width (cm)\":2.0},{\"sepal length (cm)\":6.2,\"sepal width (cm)\":3.4,\"petal length (cm)\":5.4,\"petal width (cm)\":2.3},{\"sepal length (cm)\":5.9,\"sepal width (cm)\":3.0,\"petal length (cm)\":5.1,\"petal width (cm)\":1.8}];\n",
       "          document.querySelector(\"#elem\").data = data;\n",
       "        </script>"
      ],
      "text/plain": [
       "<IPython.core.display.HTML object>"
      ]
     },
     "metadata": {},
     "output_type": "display_data"
    }
   ],
   "source": [
    "# Adapted from venkatesh-1729's answer to https://github.com/PAIR-code/facets/issues/15\n",
    "jsonstr = pd.DataFrame(iris.data, columns=iris.feature_names).to_json(orient='records')\n",
    "\n",
    "# Display the Dive visualization for this data\n",
    "from IPython.core.display import display, HTML\n",
    "\n",
    "HTML_TEMPLATE = \"\"\"<link rel=\"import\" href=\"/nbextensions/facets-dist/facets-jupyter.html\">\n",
    "        <facets-dive id=\"elem\" height=\"600\"></facets-dive>\n",
    "        <script>\n",
    "          var data = {jsonstr};\n",
    "          document.querySelector(\"#elem\").data = data;\n",
    "        </script>\"\"\"\n",
    "html = HTML_TEMPLATE.format(jsonstr=jsonstr)\n",
    "display(HTML(html))"
   ]
  }
 ],
 "metadata": {
  "kernelspec": {
   "display_name": "Python 2",
   "language": "python",
   "name": "python2"
  },
  "language_info": {
   "codemirror_mode": {
    "name": "ipython",
    "version": 2
   },
   "file_extension": ".py",
   "mimetype": "text/x-python",
   "name": "python",
   "nbconvert_exporter": "python",
   "pygments_lexer": "ipython2",
   "version": "2.7.13"
  },
  "varInspector": {
   "cols": {
    "lenName": 16,
    "lenType": 16,
    "lenVar": 40
   },
   "kernels_config": {
    "python": {
     "delete_cmd_postfix": "",
     "delete_cmd_prefix": "del ",
     "library": "var_list.py",
     "varRefreshCmd": "print(var_dic_list())"
    },
    "r": {
     "delete_cmd_postfix": ") ",
     "delete_cmd_prefix": "rm(",
     "library": "var_list.r",
     "varRefreshCmd": "cat(var_dic_list()) "
    }
   },
   "types_to_exclude": [
    "module",
    "function",
    "builtin_function_or_method",
    "instance",
    "_Feature"
   ],
   "window_display": false
  }
 },
 "nbformat": 4,
 "nbformat_minor": 2
}
